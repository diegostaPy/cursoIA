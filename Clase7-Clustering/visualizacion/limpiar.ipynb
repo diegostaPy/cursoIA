{
 "cells": [
  {
   "cell_type": "code",
   "execution_count": 1,
   "id": "humanitarian-pocket",
   "metadata": {},
   "outputs": [],
   "source": [
    "import os\n",
    "import re\n",
    "import time\n",
    "import pandas as pd\n",
    "import numpy as np\n",
    "from tqdm import tqdm\n",
    "import plotly as px\n",
    "import plotly.graph_objects as go\n",
    "\n",
    "\n",
    "pd.set_option('display.max_columns', None)"
   ]
  },
  {
   "cell_type": "code",
   "execution_count": 2,
   "id": "dominican-group",
   "metadata": {},
   "outputs": [],
   "source": [
    "direccion='../catalogAnony/'"
   ]
  },
  {
   "cell_type": "code",
   "execution_count": 10,
   "id": "classified-bench",
   "metadata": {},
   "outputs": [
    {
     "name": "stderr",
     "output_type": "stream",
     "text": [
      " 25%|██▌       | 1/4 [00:00<00:00,  8.90it/s]"
     ]
    },
    {
     "name": "stdout",
     "output_type": "stream",
     "text": [
      "Metropolitano141.csv\n",
      "Index(['49', '48', '37'], dtype='object')\n",
      "2022-01-07 02:00:00 2022-03-06 23:00:00\n",
      "Metropolitano142.csv\n",
      "Index(['163', '160', '154', '149', '148', '134', '132', '130', '128'], dtype='object')\n",
      "2022-01-07 02:00:00 2022-01-31 11:00:00\n"
     ]
    },
    {
     "name": "stderr",
     "output_type": "stream",
     "text": [
      "100%|██████████| 4/4 [00:00<00:00,  9.84it/s]"
     ]
    },
    {
     "name": "stdout",
     "output_type": "stream",
     "text": [
      "Metropolitano245.csv\n",
      "Index(['363', '361', '354', '349', '348', '346', '338', '337', '336', '335'], dtype='object')\n",
      "2022-01-07 02:00:00 2022-01-31 02:00:00\n",
      "Metropolitano343.csv\n",
      "Index(['243', '240', '235', '231', '229', '228'], dtype='object')\n",
      "2022-01-07 02:00:00 2022-02-07 05:00:00\n"
     ]
    },
    {
     "name": "stderr",
     "output_type": "stream",
     "text": [
      "\n",
      "0it [00:00, ?it/s]\n",
      " 25%|██▌       | 1/4 [00:00<00:00,  9.90it/s]"
     ]
    },
    {
     "name": "stdout",
     "output_type": "stream",
     "text": [
      "Metropolitano141.csv\n",
      "Index([], dtype='object')\n",
      "2022-01-07 03:00:00 2022-03-06 23:00:00\n",
      "Metropolitano142.csv\n",
      "Index([], dtype='object')\n",
      "2022-01-07 03:00:00 2022-01-31 11:00:00\n"
     ]
    },
    {
     "name": "stderr",
     "output_type": "stream",
     "text": [
      "100%|██████████| 4/4 [00:00<00:00, 10.28it/s]"
     ]
    },
    {
     "name": "stdout",
     "output_type": "stream",
     "text": [
      "Metropolitano245.csv\n",
      "Index([], dtype='object')\n",
      "2022-01-07 03:00:00 2022-01-31 02:00:00\n",
      "Metropolitano343.csv\n",
      "Index([], dtype='object')\n",
      "2022-01-07 03:00:00 2022-02-07 05:00:00\n"
     ]
    },
    {
     "name": "stderr",
     "output_type": "stream",
     "text": [
      "\n"
     ]
    }
   ],
   "source": [
    "for path, subdirs, files in os.walk(direccion):\n",
    "        for name in tqdm(files):\n",
    "            print(name)\n",
    "            df=pd.read_csv(os.path.join(path, name), skiprows=[1])\n",
    "            df[\"Hora\"]=pd.to_datetime(df.iloc[:, 0])\n",
    "            #df=df.drop(df.columns[0], axis=1)\n",
    "            df=df.sort_values(by='Hora')\n",
    "            df = df.set_index('Hora')\n",
    "            flag=df.isna().sum()/len(df)>0.05\n",
    "            print(df.columns[flag])\n",
    "            df=df.drop(df.columns[flag], axis=1)\n",
    "            df=df.query(\"index > '2021-12-01 00:00:00'\")\n",
    "            first_idx = df.first_valid_index()\n",
    "            last_idx = df.last_valid_index()\n",
    "            print(first_idx, last_idx)\n",
    "                        \n",
    "            df.loc[first_idx:last_idx]\n",
    "            df.to_csv('../catalogAnony/limpieza/'+name)"
   ]
  },
  {
   "cell_type": "code",
   "execution_count": 11,
   "id": "minimal-camping",
   "metadata": {},
   "outputs": [
    {
     "data": {
      "text/plain": [
       "242    0.000000\n",
       "241    0.000000\n",
       "239    0.000000\n",
       "238    0.000000\n",
       "237    0.000000\n",
       "         ...   \n",
       "177    0.001346\n",
       "176    0.000000\n",
       "175    0.005384\n",
       "174    0.000000\n",
       "173    0.000000\n",
       "Length: 65, dtype: float64"
      ]
     },
     "execution_count": 11,
     "metadata": {},
     "output_type": "execute_result"
    }
   ],
   "source": [
    "df.isna().sum()/len(df)                 "
   ]
  },
  {
   "cell_type": "code",
   "execution_count": null,
   "id": "satisfied-circus",
   "metadata": {},
   "outputs": [],
   "source": []
  },
  {
   "cell_type": "code",
   "execution_count": null,
   "id": "classified-musician",
   "metadata": {},
   "outputs": [],
   "source": []
  },
  {
   "cell_type": "code",
   "execution_count": null,
   "id": "common-luxembourg",
   "metadata": {},
   "outputs": [],
   "source": []
  }
 ],
 "metadata": {
  "kernelspec": {
   "display_name": "Python 3",
   "language": "python",
   "name": "python3"
  },
  "language_info": {
   "codemirror_mode": {
    "name": "ipython",
    "version": 3
   },
   "file_extension": ".py",
   "mimetype": "text/x-python",
   "name": "python",
   "nbconvert_exporter": "python",
   "pygments_lexer": "ipython3",
   "version": "3.8.8"
  }
 },
 "nbformat": 4,
 "nbformat_minor": 5
}
