{
 "cells": [
  {
   "cell_type": "code",
   "execution_count": 1,
   "id": "rubber-cannon",
   "metadata": {},
   "outputs": [],
   "source": [
    "import os\n",
    "import re\n",
    "import time\n",
    "import pandas as pd\n",
    "import numpy as np\n",
    "from tqdm import tqdm\n",
    "import plotly as px\n",
    "import plotly.graph_objects as go\n",
    "from sklearn.impute import KNNImputer\n",
    "import matplotlib.pyplot as plt\n",
    "plt.style.use('fivethirtyeight')\n",
    "pd.set_option('display.max_columns', None)"
   ]
  },
  {
   "cell_type": "code",
   "execution_count": 2,
   "id": "written-excitement",
   "metadata": {},
   "outputs": [],
   "source": [
    "direccion='../limpiezacolumnas/salida/'"
   ]
  },
  {
   "cell_type": "code",
   "execution_count": 3,
   "id": "nasty-energy",
   "metadata": {},
   "outputs": [
    {
     "name": "stderr",
     "output_type": "stream",
     "text": [
      " 33%|███▎      | 2/6 [00:00<00:00, 11.43it/s]"
     ]
    },
    {
     "name": "stdout",
     "output_type": "stream",
     "text": [
      "141.csv\n",
      "142.csv\n",
      "245.csv\n",
      "343.csv\n"
     ]
    },
    {
     "name": "stderr",
     "output_type": "stream",
     "text": [
      "100%|██████████| 6/6 [00:00<00:00, 11.24it/s]\n",
      "100%|██████████| 1/1 [00:00<?, ?it/s]"
     ]
    },
    {
     "name": "stdout",
     "output_type": "stream",
     "text": [
      "546.csv\n",
      "846.csv\n"
     ]
    },
    {
     "name": "stderr",
     "output_type": "stream",
     "text": [
      "\n"
     ]
    }
   ],
   "source": [
    "dd=pd.DataFrame()\n",
    "for path, subdirs, files in os.walk(direccion):\n",
    "        for name in tqdm(files):\n",
    "            if(len(name)<8):\n",
    "                print(name)\n",
    "            \n",
    "                df=pd.read_csv(os.path.join(path, name))\n",
    "                df[\"Hora\"]=pd.to_datetime(df[\"Hora\"],dayfirst=True)\n",
    "                df = df.set_index('Hora')\n",
    "                ix=df.index.values-3\n",
    "                imputer = KNNImputer(n_neighbors=6)\n",
    "                df = pd.DataFrame(imputer.fit_transform(df),columns = df.columns)\n",
    "                df['index']=ix\n",
    "                dff = df.set_index('index')\n",
    "                df=pd.melt(df, id_vars=['index'], var_name='NIS', value_name='KWh')\n",
    "                df[\"cat\"]=name[:3]\n",
    "                \n",
    "                dd = pd.concat([dd, df],axis=0)\n",
    "                  #df[\"Hora\"] "
   ]
  },
  {
   "cell_type": "code",
   "execution_count": 4,
   "id": "hairy-burden",
   "metadata": {},
   "outputs": [],
   "source": [
    "\n",
    "dd['hour'] = dd['index'].apply(lambda x: x.hour)"
   ]
  },
  {
   "cell_type": "code",
   "execution_count": 5,
   "id": "biological-layer",
   "metadata": {},
   "outputs": [],
   "source": [
    "dd['day'] = dd['index'].apply(lambda x: x.dayofweek)"
   ]
  },
  {
   "cell_type": "code",
   "execution_count": 6,
   "id": "ecological-webcam",
   "metadata": {},
   "outputs": [
    {
     "data": {
      "text/html": [
       "<div>\n",
       "<style scoped>\n",
       "    .dataframe tbody tr th:only-of-type {\n",
       "        vertical-align: middle;\n",
       "    }\n",
       "\n",
       "    .dataframe tbody tr th {\n",
       "        vertical-align: top;\n",
       "    }\n",
       "\n",
       "    .dataframe thead th {\n",
       "        text-align: right;\n",
       "    }\n",
       "</style>\n",
       "<table border=\"1\" class=\"dataframe\">\n",
       "  <thead>\n",
       "    <tr style=\"text-align: right;\">\n",
       "      <th></th>\n",
       "      <th>index</th>\n",
       "      <th>NIS</th>\n",
       "      <th>KWh</th>\n",
       "      <th>cat</th>\n",
       "      <th>hour</th>\n",
       "      <th>day</th>\n",
       "    </tr>\n",
       "  </thead>\n",
       "  <tbody>\n",
       "    <tr>\n",
       "      <th>0</th>\n",
       "      <td>2021-12-01 00:59:59.999999997</td>\n",
       "      <td>1572256</td>\n",
       "      <td>0.052</td>\n",
       "      <td>141</td>\n",
       "      <td>0</td>\n",
       "      <td>2</td>\n",
       "    </tr>\n",
       "    <tr>\n",
       "      <th>1</th>\n",
       "      <td>2021-12-01 01:59:59.999999997</td>\n",
       "      <td>1572256</td>\n",
       "      <td>0.046</td>\n",
       "      <td>141</td>\n",
       "      <td>1</td>\n",
       "      <td>2</td>\n",
       "    </tr>\n",
       "    <tr>\n",
       "      <th>2</th>\n",
       "      <td>2021-12-01 02:59:59.999999997</td>\n",
       "      <td>1572256</td>\n",
       "      <td>0.042</td>\n",
       "      <td>141</td>\n",
       "      <td>2</td>\n",
       "      <td>2</td>\n",
       "    </tr>\n",
       "    <tr>\n",
       "      <th>3</th>\n",
       "      <td>2021-12-01 03:59:59.999999997</td>\n",
       "      <td>1572256</td>\n",
       "      <td>0.044</td>\n",
       "      <td>141</td>\n",
       "      <td>3</td>\n",
       "      <td>2</td>\n",
       "    </tr>\n",
       "    <tr>\n",
       "      <th>4</th>\n",
       "      <td>2021-12-01 04:59:59.999999997</td>\n",
       "      <td>1572256</td>\n",
       "      <td>0.052</td>\n",
       "      <td>141</td>\n",
       "      <td>4</td>\n",
       "      <td>2</td>\n",
       "    </tr>\n",
       "  </tbody>\n",
       "</table>\n",
       "</div>"
      ],
      "text/plain": [
       "                          index      NIS    KWh  cat  hour  day\n",
       "0 2021-12-01 00:59:59.999999997  1572256  0.052  141     0    2\n",
       "1 2021-12-01 01:59:59.999999997  1572256  0.046  141     1    2\n",
       "2 2021-12-01 02:59:59.999999997  1572256  0.042  141     2    2\n",
       "3 2021-12-01 03:59:59.999999997  1572256  0.044  141     3    2\n",
       "4 2021-12-01 04:59:59.999999997  1572256  0.052  141     4    2"
      ]
     },
     "execution_count": 6,
     "metadata": {},
     "output_type": "execute_result"
    }
   ],
   "source": [
    "dd.head()"
   ]
  },
  {
   "cell_type": "code",
   "execution_count": 7,
   "id": "auburn-programmer",
   "metadata": {},
   "outputs": [],
   "source": [
    "dd['max_KWh'] = dd.groupby(['cat','day'])['KWh'].transform(max)"
   ]
  },
  {
   "cell_type": "code",
   "execution_count": 8,
   "id": "alone-snapshot",
   "metadata": {},
   "outputs": [],
   "source": [
    "dd['norm_KWh'] = dd['KWh'] / dd['max_KWh']"
   ]
  },
  {
   "cell_type": "code",
   "execution_count": null,
   "id": "fantastic-greeting",
   "metadata": {},
   "outputs": [],
   "source": []
  },
  {
   "cell_type": "code",
   "execution_count": 12,
   "id": "contrary-certification",
   "metadata": {
    "scrolled": true
   },
   "outputs": [],
   "source": [
    "import numpy as np\n",
    "from scipy.spatial.distance import cdist\n",
    "from sklearn import cluster "
   ]
  },
  {
   "cell_type": "code",
   "execution_count": 13,
   "id": "extensive-xerox",
   "metadata": {},
   "outputs": [],
   "source": [
    "red_df = dd[['cat','NIS',  'day', 'hour', 'norm_KWh']]\n",
    "piv_df = pd.pivot_table(red_df, index = ['cat','NIS',  'day'], columns = 'hour', values = 'norm_KWh')\n",
    "piv_df.reset_index(inplace = True)\n",
    "grp_df = piv_df.groupby(['cat', 'day']).mean()\n",
    "grp_df.reset_index(inplace = True)\n",
    "#del grp_df['day'] # This feature is not relevant any more"
   ]
  },
  {
   "cell_type": "code",
   "execution_count": 14,
   "id": "satellite-chile",
   "metadata": {},
   "outputs": [
    {
     "data": {
      "text/html": [
       "<div>\n",
       "<style scoped>\n",
       "    .dataframe tbody tr th:only-of-type {\n",
       "        vertical-align: middle;\n",
       "    }\n",
       "\n",
       "    .dataframe tbody tr th {\n",
       "        vertical-align: top;\n",
       "    }\n",
       "\n",
       "    .dataframe thead th {\n",
       "        text-align: right;\n",
       "    }\n",
       "</style>\n",
       "<table border=\"1\" class=\"dataframe\">\n",
       "  <thead>\n",
       "    <tr style=\"text-align: right;\">\n",
       "      <th>hour</th>\n",
       "      <th>cat</th>\n",
       "      <th>day</th>\n",
       "      <th>0</th>\n",
       "      <th>1</th>\n",
       "      <th>2</th>\n",
       "      <th>3</th>\n",
       "      <th>4</th>\n",
       "      <th>5</th>\n",
       "      <th>6</th>\n",
       "      <th>7</th>\n",
       "      <th>8</th>\n",
       "      <th>9</th>\n",
       "      <th>10</th>\n",
       "      <th>11</th>\n",
       "      <th>12</th>\n",
       "      <th>13</th>\n",
       "      <th>14</th>\n",
       "      <th>15</th>\n",
       "      <th>16</th>\n",
       "      <th>17</th>\n",
       "      <th>18</th>\n",
       "      <th>19</th>\n",
       "      <th>20</th>\n",
       "      <th>21</th>\n",
       "      <th>22</th>\n",
       "      <th>23</th>\n",
       "    </tr>\n",
       "  </thead>\n",
       "  <tbody>\n",
       "    <tr>\n",
       "      <th>0</th>\n",
       "      <td>141</td>\n",
       "      <td>0</td>\n",
       "      <td>0.120709</td>\n",
       "      <td>0.108471</td>\n",
       "      <td>0.106166</td>\n",
       "      <td>0.101640</td>\n",
       "      <td>0.100905</td>\n",
       "      <td>0.108447</td>\n",
       "      <td>0.097690</td>\n",
       "      <td>0.083008</td>\n",
       "      <td>0.077209</td>\n",
       "      <td>0.080598</td>\n",
       "      <td>0.087385</td>\n",
       "      <td>0.096476</td>\n",
       "      <td>0.093745</td>\n",
       "      <td>0.086294</td>\n",
       "      <td>0.081246</td>\n",
       "      <td>0.076207</td>\n",
       "      <td>0.073265</td>\n",
       "      <td>0.078237</td>\n",
       "      <td>0.088998</td>\n",
       "      <td>0.109444</td>\n",
       "      <td>0.148510</td>\n",
       "      <td>0.141461</td>\n",
       "      <td>0.112993</td>\n",
       "      <td>0.109210</td>\n",
       "    </tr>\n",
       "    <tr>\n",
       "      <th>1</th>\n",
       "      <td>141</td>\n",
       "      <td>1</td>\n",
       "      <td>0.077231</td>\n",
       "      <td>0.072824</td>\n",
       "      <td>0.074336</td>\n",
       "      <td>0.070273</td>\n",
       "      <td>0.070445</td>\n",
       "      <td>0.078472</td>\n",
       "      <td>0.070891</td>\n",
       "      <td>0.057872</td>\n",
       "      <td>0.054382</td>\n",
       "      <td>0.057649</td>\n",
       "      <td>0.058600</td>\n",
       "      <td>0.067942</td>\n",
       "      <td>0.070686</td>\n",
       "      <td>0.071151</td>\n",
       "      <td>0.065785</td>\n",
       "      <td>0.059240</td>\n",
       "      <td>0.055440</td>\n",
       "      <td>0.064938</td>\n",
       "      <td>0.067746</td>\n",
       "      <td>0.083092</td>\n",
       "      <td>0.118475</td>\n",
       "      <td>0.119271</td>\n",
       "      <td>0.103942</td>\n",
       "      <td>0.093566</td>\n",
       "    </tr>\n",
       "    <tr>\n",
       "      <th>2</th>\n",
       "      <td>141</td>\n",
       "      <td>2</td>\n",
       "      <td>0.104551</td>\n",
       "      <td>0.102359</td>\n",
       "      <td>0.095183</td>\n",
       "      <td>0.095930</td>\n",
       "      <td>0.094777</td>\n",
       "      <td>0.100777</td>\n",
       "      <td>0.091306</td>\n",
       "      <td>0.075726</td>\n",
       "      <td>0.074416</td>\n",
       "      <td>0.075721</td>\n",
       "      <td>0.080623</td>\n",
       "      <td>0.085637</td>\n",
       "      <td>0.091566</td>\n",
       "      <td>0.087399</td>\n",
       "      <td>0.085481</td>\n",
       "      <td>0.088158</td>\n",
       "      <td>0.075857</td>\n",
       "      <td>0.074311</td>\n",
       "      <td>0.075784</td>\n",
       "      <td>0.098128</td>\n",
       "      <td>0.139496</td>\n",
       "      <td>0.132340</td>\n",
       "      <td>0.124109</td>\n",
       "      <td>0.115830</td>\n",
       "    </tr>\n",
       "    <tr>\n",
       "      <th>3</th>\n",
       "      <td>141</td>\n",
       "      <td>3</td>\n",
       "      <td>0.123230</td>\n",
       "      <td>0.118631</td>\n",
       "      <td>0.111138</td>\n",
       "      <td>0.107426</td>\n",
       "      <td>0.108523</td>\n",
       "      <td>0.113160</td>\n",
       "      <td>0.106330</td>\n",
       "      <td>0.083156</td>\n",
       "      <td>0.079909</td>\n",
       "      <td>0.079904</td>\n",
       "      <td>0.091286</td>\n",
       "      <td>0.102682</td>\n",
       "      <td>0.094291</td>\n",
       "      <td>0.093611</td>\n",
       "      <td>0.090697</td>\n",
       "      <td>0.084477</td>\n",
       "      <td>0.083428</td>\n",
       "      <td>0.082054</td>\n",
       "      <td>0.091002</td>\n",
       "      <td>0.110681</td>\n",
       "      <td>0.157747</td>\n",
       "      <td>0.145581</td>\n",
       "      <td>0.140227</td>\n",
       "      <td>0.131087</td>\n",
       "    </tr>\n",
       "    <tr>\n",
       "      <th>4</th>\n",
       "      <td>141</td>\n",
       "      <td>4</td>\n",
       "      <td>0.106599</td>\n",
       "      <td>0.099854</td>\n",
       "      <td>0.097268</td>\n",
       "      <td>0.093891</td>\n",
       "      <td>0.094634</td>\n",
       "      <td>0.098428</td>\n",
       "      <td>0.092130</td>\n",
       "      <td>0.084333</td>\n",
       "      <td>0.071863</td>\n",
       "      <td>0.063236</td>\n",
       "      <td>0.074731</td>\n",
       "      <td>0.092504</td>\n",
       "      <td>0.098588</td>\n",
       "      <td>0.095798</td>\n",
       "      <td>0.086220</td>\n",
       "      <td>0.085895</td>\n",
       "      <td>0.088719</td>\n",
       "      <td>0.091126</td>\n",
       "      <td>0.098010</td>\n",
       "      <td>0.113416</td>\n",
       "      <td>0.153865</td>\n",
       "      <td>0.146340</td>\n",
       "      <td>0.127394</td>\n",
       "      <td>0.115672</td>\n",
       "    </tr>\n",
       "  </tbody>\n",
       "</table>\n",
       "</div>"
      ],
      "text/plain": [
       "hour  cat  day         0         1         2         3         4         5  \\\n",
       "0     141    0  0.120709  0.108471  0.106166  0.101640  0.100905  0.108447   \n",
       "1     141    1  0.077231  0.072824  0.074336  0.070273  0.070445  0.078472   \n",
       "2     141    2  0.104551  0.102359  0.095183  0.095930  0.094777  0.100777   \n",
       "3     141    3  0.123230  0.118631  0.111138  0.107426  0.108523  0.113160   \n",
       "4     141    4  0.106599  0.099854  0.097268  0.093891  0.094634  0.098428   \n",
       "\n",
       "hour         6         7         8         9        10        11        12  \\\n",
       "0     0.097690  0.083008  0.077209  0.080598  0.087385  0.096476  0.093745   \n",
       "1     0.070891  0.057872  0.054382  0.057649  0.058600  0.067942  0.070686   \n",
       "2     0.091306  0.075726  0.074416  0.075721  0.080623  0.085637  0.091566   \n",
       "3     0.106330  0.083156  0.079909  0.079904  0.091286  0.102682  0.094291   \n",
       "4     0.092130  0.084333  0.071863  0.063236  0.074731  0.092504  0.098588   \n",
       "\n",
       "hour        13        14        15        16        17        18        19  \\\n",
       "0     0.086294  0.081246  0.076207  0.073265  0.078237  0.088998  0.109444   \n",
       "1     0.071151  0.065785  0.059240  0.055440  0.064938  0.067746  0.083092   \n",
       "2     0.087399  0.085481  0.088158  0.075857  0.074311  0.075784  0.098128   \n",
       "3     0.093611  0.090697  0.084477  0.083428  0.082054  0.091002  0.110681   \n",
       "4     0.095798  0.086220  0.085895  0.088719  0.091126  0.098010  0.113416   \n",
       "\n",
       "hour        20        21        22        23  \n",
       "0     0.148510  0.141461  0.112993  0.109210  \n",
       "1     0.118475  0.119271  0.103942  0.093566  \n",
       "2     0.139496  0.132340  0.124109  0.115830  \n",
       "3     0.157747  0.145581  0.140227  0.131087  \n",
       "4     0.153865  0.146340  0.127394  0.115672  "
      ]
     },
     "execution_count": 14,
     "metadata": {},
     "output_type": "execute_result"
    }
   ],
   "source": [
    "grp_df.head()"
   ]
  },
  {
   "cell_type": "code",
   "execution_count": 15,
   "id": "composite-malaysia",
   "metadata": {},
   "outputs": [],
   "source": [
    "kmeans_df = grp_df#pd.get_dummies(grp_df, columns =['cat','NIS'])"
   ]
  },
  {
   "cell_type": "code",
   "execution_count": 17,
   "id": "broken-royal",
   "metadata": {},
   "outputs": [],
   "source": [
    "def elbow_method(dataframe, min_k, max_k):\n",
    "    # Try all k's between min_k and max_k\n",
    "    cluster_nums = range(min_k, max_k + 1)\n",
    "    \n",
    "    # Array of K-means algorithm objects\n",
    "    k_mean_algs = [cluster.KMeans(n_clusters = k) for k in cluster_nums]\n",
    "    \n",
    "    # Array with the results of the K-mean algorithms\n",
    "    k_mean_res = [alg.fit(dataframe) for alg in k_mean_algs]\n",
    "    \n",
    "    # Array with the centroids for each value of k\n",
    "    centroids = [res.cluster_centers_ for res in k_mean_res]\n",
    "    \n",
    "    # Euclidean distance between the points of the cluster and the centroids\n",
    "    distances = [cdist(dataframe, centroid, 'euclidean') for centroid in centroids]\n",
    "    \n",
    "    # Get the closest centroid (and the corresponding distance)\n",
    "    min_indices = [np.argmin(distance, axis = 1) for distance in distances]\n",
    "    min_distances = [np.min(distance, axis = 1) for distance in distances]\n",
    "    \n",
    "    # Calculate the average squared distance\n",
    "    avg_sum_squares = [sum(dist ** 2) / kmeans_df.shape[0] for dist in min_distances]\n",
    "\n",
    "    # Plot the elbow graph\n",
    "    fig = plt.figure()\n",
    "    ax = fig.add_subplot(111)\n",
    "    ax.plot(cluster_nums, avg_sum_squares, 'b*-')\n",
    "    plt.grid(True)\n",
    "    plt.xlabel('Number of clusters')\n",
    "    plt.ylabel('Average sum of squares within cluster')\n",
    "    plt.show()\n",
    "    \n",
    "    return (k_mean_algs, k_mean_res)"
   ]
  },
  {
   "cell_type": "code",
   "execution_count": 18,
   "id": "regular-logging",
   "metadata": {},
   "outputs": [
    {
     "name": "stderr",
     "output_type": "stream",
     "text": [
      "D:\\UserFiles\\anaconda\\envs\\ia\\lib\\site-packages\\sklearn\\cluster\\_kmeans.py:870: FutureWarning: The default value of `n_init` will change from 10 to 'auto' in 1.4. Set the value of `n_init` explicitly to suppress the warning\n",
      "  warnings.warn(\n",
      "D:\\UserFiles\\anaconda\\envs\\ia\\lib\\site-packages\\sklearn\\cluster\\_kmeans.py:1382: UserWarning: KMeans is known to have a memory leak on Windows with MKL, when there are less chunks than available threads. You can avoid it by setting the environment variable OMP_NUM_THREADS=1.\n",
      "  warnings.warn(\n",
      "D:\\UserFiles\\anaconda\\envs\\ia\\lib\\site-packages\\sklearn\\cluster\\_kmeans.py:870: FutureWarning: The default value of `n_init` will change from 10 to 'auto' in 1.4. Set the value of `n_init` explicitly to suppress the warning\n",
      "  warnings.warn(\n",
      "D:\\UserFiles\\anaconda\\envs\\ia\\lib\\site-packages\\sklearn\\cluster\\_kmeans.py:1382: UserWarning: KMeans is known to have a memory leak on Windows with MKL, when there are less chunks than available threads. You can avoid it by setting the environment variable OMP_NUM_THREADS=1.\n",
      "  warnings.warn(\n",
      "D:\\UserFiles\\anaconda\\envs\\ia\\lib\\site-packages\\sklearn\\cluster\\_kmeans.py:870: FutureWarning: The default value of `n_init` will change from 10 to 'auto' in 1.4. Set the value of `n_init` explicitly to suppress the warning\n",
      "  warnings.warn(\n",
      "D:\\UserFiles\\anaconda\\envs\\ia\\lib\\site-packages\\sklearn\\cluster\\_kmeans.py:1382: UserWarning: KMeans is known to have a memory leak on Windows with MKL, when there are less chunks than available threads. You can avoid it by setting the environment variable OMP_NUM_THREADS=1.\n",
      "  warnings.warn(\n",
      "D:\\UserFiles\\anaconda\\envs\\ia\\lib\\site-packages\\sklearn\\cluster\\_kmeans.py:870: FutureWarning: The default value of `n_init` will change from 10 to 'auto' in 1.4. Set the value of `n_init` explicitly to suppress the warning\n",
      "  warnings.warn(\n",
      "D:\\UserFiles\\anaconda\\envs\\ia\\lib\\site-packages\\sklearn\\cluster\\_kmeans.py:1382: UserWarning: KMeans is known to have a memory leak on Windows with MKL, when there are less chunks than available threads. You can avoid it by setting the environment variable OMP_NUM_THREADS=1.\n",
      "  warnings.warn(\n",
      "D:\\UserFiles\\anaconda\\envs\\ia\\lib\\site-packages\\sklearn\\cluster\\_kmeans.py:870: FutureWarning: The default value of `n_init` will change from 10 to 'auto' in 1.4. Set the value of `n_init` explicitly to suppress the warning\n",
      "  warnings.warn(\n",
      "D:\\UserFiles\\anaconda\\envs\\ia\\lib\\site-packages\\sklearn\\cluster\\_kmeans.py:1382: UserWarning: KMeans is known to have a memory leak on Windows with MKL, when there are less chunks than available threads. You can avoid it by setting the environment variable OMP_NUM_THREADS=1.\n",
      "  warnings.warn(\n",
      "D:\\UserFiles\\anaconda\\envs\\ia\\lib\\site-packages\\sklearn\\cluster\\_kmeans.py:870: FutureWarning: The default value of `n_init` will change from 10 to 'auto' in 1.4. Set the value of `n_init` explicitly to suppress the warning\n",
      "  warnings.warn(\n",
      "D:\\UserFiles\\anaconda\\envs\\ia\\lib\\site-packages\\sklearn\\cluster\\_kmeans.py:1382: UserWarning: KMeans is known to have a memory leak on Windows with MKL, when there are less chunks than available threads. You can avoid it by setting the environment variable OMP_NUM_THREADS=1.\n",
      "  warnings.warn(\n",
      "D:\\UserFiles\\anaconda\\envs\\ia\\lib\\site-packages\\sklearn\\cluster\\_kmeans.py:870: FutureWarning: The default value of `n_init` will change from 10 to 'auto' in 1.4. Set the value of `n_init` explicitly to suppress the warning\n",
      "  warnings.warn(\n",
      "D:\\UserFiles\\anaconda\\envs\\ia\\lib\\site-packages\\sklearn\\cluster\\_kmeans.py:1382: UserWarning: KMeans is known to have a memory leak on Windows with MKL, when there are less chunks than available threads. You can avoid it by setting the environment variable OMP_NUM_THREADS=1.\n",
      "  warnings.warn(\n",
      "D:\\UserFiles\\anaconda\\envs\\ia\\lib\\site-packages\\sklearn\\cluster\\_kmeans.py:870: FutureWarning: The default value of `n_init` will change from 10 to 'auto' in 1.4. Set the value of `n_init` explicitly to suppress the warning\n",
      "  warnings.warn(\n",
      "D:\\UserFiles\\anaconda\\envs\\ia\\lib\\site-packages\\sklearn\\cluster\\_kmeans.py:1382: UserWarning: KMeans is known to have a memory leak on Windows with MKL, when there are less chunks than available threads. You can avoid it by setting the environment variable OMP_NUM_THREADS=1.\n",
      "  warnings.warn(\n",
      "D:\\UserFiles\\anaconda\\envs\\ia\\lib\\site-packages\\sklearn\\cluster\\_kmeans.py:870: FutureWarning: The default value of `n_init` will change from 10 to 'auto' in 1.4. Set the value of `n_init` explicitly to suppress the warning\n",
      "  warnings.warn(\n",
      "D:\\UserFiles\\anaconda\\envs\\ia\\lib\\site-packages\\sklearn\\cluster\\_kmeans.py:1382: UserWarning: KMeans is known to have a memory leak on Windows with MKL, when there are less chunks than available threads. You can avoid it by setting the environment variable OMP_NUM_THREADS=1.\n",
      "  warnings.warn(\n",
      "D:\\UserFiles\\anaconda\\envs\\ia\\lib\\site-packages\\sklearn\\cluster\\_kmeans.py:870: FutureWarning: The default value of `n_init` will change from 10 to 'auto' in 1.4. Set the value of `n_init` explicitly to suppress the warning\n",
      "  warnings.warn(\n",
      "D:\\UserFiles\\anaconda\\envs\\ia\\lib\\site-packages\\sklearn\\cluster\\_kmeans.py:1382: UserWarning: KMeans is known to have a memory leak on Windows with MKL, when there are less chunks than available threads. You can avoid it by setting the environment variable OMP_NUM_THREADS=1.\n",
      "  warnings.warn(\n",
      "D:\\UserFiles\\anaconda\\envs\\ia\\lib\\site-packages\\sklearn\\cluster\\_kmeans.py:870: FutureWarning: The default value of `n_init` will change from 10 to 'auto' in 1.4. Set the value of `n_init` explicitly to suppress the warning\n",
      "  warnings.warn(\n",
      "D:\\UserFiles\\anaconda\\envs\\ia\\lib\\site-packages\\sklearn\\cluster\\_kmeans.py:1382: UserWarning: KMeans is known to have a memory leak on Windows with MKL, when there are less chunks than available threads. You can avoid it by setting the environment variable OMP_NUM_THREADS=1.\n",
      "  warnings.warn(\n",
      "D:\\UserFiles\\anaconda\\envs\\ia\\lib\\site-packages\\sklearn\\cluster\\_kmeans.py:870: FutureWarning: The default value of `n_init` will change from 10 to 'auto' in 1.4. Set the value of `n_init` explicitly to suppress the warning\n",
      "  warnings.warn(\n",
      "D:\\UserFiles\\anaconda\\envs\\ia\\lib\\site-packages\\sklearn\\cluster\\_kmeans.py:1382: UserWarning: KMeans is known to have a memory leak on Windows with MKL, when there are less chunks than available threads. You can avoid it by setting the environment variable OMP_NUM_THREADS=1.\n",
      "  warnings.warn(\n",
      "D:\\UserFiles\\anaconda\\envs\\ia\\lib\\site-packages\\sklearn\\cluster\\_kmeans.py:870: FutureWarning: The default value of `n_init` will change from 10 to 'auto' in 1.4. Set the value of `n_init` explicitly to suppress the warning\n",
      "  warnings.warn(\n",
      "D:\\UserFiles\\anaconda\\envs\\ia\\lib\\site-packages\\sklearn\\cluster\\_kmeans.py:1382: UserWarning: KMeans is known to have a memory leak on Windows with MKL, when there are less chunks than available threads. You can avoid it by setting the environment variable OMP_NUM_THREADS=1.\n",
      "  warnings.warn(\n",
      "D:\\UserFiles\\anaconda\\envs\\ia\\lib\\site-packages\\sklearn\\cluster\\_kmeans.py:870: FutureWarning: The default value of `n_init` will change from 10 to 'auto' in 1.4. Set the value of `n_init` explicitly to suppress the warning\n",
      "  warnings.warn(\n",
      "D:\\UserFiles\\anaconda\\envs\\ia\\lib\\site-packages\\sklearn\\cluster\\_kmeans.py:1382: UserWarning: KMeans is known to have a memory leak on Windows with MKL, when there are less chunks than available threads. You can avoid it by setting the environment variable OMP_NUM_THREADS=1.\n",
      "  warnings.warn(\n",
      "D:\\UserFiles\\anaconda\\envs\\ia\\lib\\site-packages\\sklearn\\cluster\\_kmeans.py:870: FutureWarning: The default value of `n_init` will change from 10 to 'auto' in 1.4. Set the value of `n_init` explicitly to suppress the warning\n",
      "  warnings.warn(\n",
      "D:\\UserFiles\\anaconda\\envs\\ia\\lib\\site-packages\\sklearn\\cluster\\_kmeans.py:1382: UserWarning: KMeans is known to have a memory leak on Windows with MKL, when there are less chunks than available threads. You can avoid it by setting the environment variable OMP_NUM_THREADS=1.\n",
      "  warnings.warn(\n",
      "D:\\UserFiles\\anaconda\\envs\\ia\\lib\\site-packages\\sklearn\\cluster\\_kmeans.py:870: FutureWarning: The default value of `n_init` will change from 10 to 'auto' in 1.4. Set the value of `n_init` explicitly to suppress the warning\n",
      "  warnings.warn(\n",
      "D:\\UserFiles\\anaconda\\envs\\ia\\lib\\site-packages\\sklearn\\cluster\\_kmeans.py:1382: UserWarning: KMeans is known to have a memory leak on Windows with MKL, when there are less chunks than available threads. You can avoid it by setting the environment variable OMP_NUM_THREADS=1.\n",
      "  warnings.warn(\n",
      "D:\\UserFiles\\anaconda\\envs\\ia\\lib\\site-packages\\sklearn\\cluster\\_kmeans.py:870: FutureWarning: The default value of `n_init` will change from 10 to 'auto' in 1.4. Set the value of `n_init` explicitly to suppress the warning\n",
      "  warnings.warn(\n",
      "D:\\UserFiles\\anaconda\\envs\\ia\\lib\\site-packages\\sklearn\\cluster\\_kmeans.py:1382: UserWarning: KMeans is known to have a memory leak on Windows with MKL, when there are less chunks than available threads. You can avoid it by setting the environment variable OMP_NUM_THREADS=1.\n",
      "  warnings.warn(\n",
      "D:\\UserFiles\\anaconda\\envs\\ia\\lib\\site-packages\\sklearn\\cluster\\_kmeans.py:870: FutureWarning: The default value of `n_init` will change from 10 to 'auto' in 1.4. Set the value of `n_init` explicitly to suppress the warning\n",
      "  warnings.warn(\n",
      "D:\\UserFiles\\anaconda\\envs\\ia\\lib\\site-packages\\sklearn\\cluster\\_kmeans.py:1382: UserWarning: KMeans is known to have a memory leak on Windows with MKL, when there are less chunks than available threads. You can avoid it by setting the environment variable OMP_NUM_THREADS=1.\n",
      "  warnings.warn(\n",
      "D:\\UserFiles\\anaconda\\envs\\ia\\lib\\site-packages\\sklearn\\cluster\\_kmeans.py:870: FutureWarning: The default value of `n_init` will change from 10 to 'auto' in 1.4. Set the value of `n_init` explicitly to suppress the warning\n",
      "  warnings.warn(\n",
      "D:\\UserFiles\\anaconda\\envs\\ia\\lib\\site-packages\\sklearn\\cluster\\_kmeans.py:1382: UserWarning: KMeans is known to have a memory leak on Windows with MKL, when there are less chunks than available threads. You can avoid it by setting the environment variable OMP_NUM_THREADS=1.\n",
      "  warnings.warn(\n"
     ]
    },
    {
     "data": {
      "image/png": "[encoded data removed]",
      "text/plain": [
       "<Figure size 432x288 with 1 Axes>"
      ]
     },
     "metadata": {},
     "output_type": "display_data"
    }
   ],
   "source": [
    "k_algs, k_res = elbow_method(kmeans_df.drop(['cat', 'day'], axis = 1), 2, 20)"
   ]
  },
  {
   "cell_type": "code",
   "execution_count": 19,
   "id": "rational-yukon",
   "metadata": {},
   "outputs": [],
   "source": [
    "algorithm = k_algs[4] # Values of k are {2, 3, 4, 5, ..., 20} so k = 6 corresponds to the element with index 4\n",
    "clustering = k_res[4]"
   ]
  },
  {
   "cell_type": "code",
   "execution_count": 20,
   "id": "minus-magnitude",
   "metadata": {},
   "outputs": [
    {
     "data": {
      "text/plain": [
       "array([[0.10412506, 0.09688662, 0.09372563, 0.09211366, 0.09926712,\n",
       "        0.10880897, 0.12349339, 0.14161175, 0.14665227, 0.14299707,\n",
       "        0.14315553, 0.14215896, 0.1315453 , 0.13594259, 0.13490688,\n",
       "        0.13454846, 0.13135774, 0.12416472, 0.11911124, 0.12030064,\n",
       "        0.12126234, 0.1210013 , 0.11531843, 0.11357191],\n",
       "       [0.08501292, 0.08428754, 0.08387373, 0.08194896, 0.08199475,\n",
       "        0.08246737, 0.08173063, 0.0835662 , 0.08495342, 0.08642739,\n",
       "        0.08605333, 0.08602922, 0.086454  , 0.08726355, 0.08963242,\n",
       "        0.09088716, 0.09167148, 0.09303636, 0.09180367, 0.09418674,\n",
       "        0.09768922, 0.09638738, 0.09266755, 0.08797632],\n",
       "       [0.10820531, 0.10721174, 0.1056254 , 0.10227763, 0.10268541,\n",
       "        0.10329587, 0.10246652, 0.10466424, 0.10579876, 0.10564693,\n",
       "        0.1050358 , 0.10480373, 0.10682025, 0.10900851, 0.11001818,\n",
       "        0.10954545, 0.10907841, 0.10874088, 0.10772063, 0.10612872,\n",
       "        0.10701069, 0.10711675, 0.10647747, 0.10774684],\n",
       "       [0.11543343, 0.10981122, 0.10462198, 0.10125923, 0.10104537,\n",
       "        0.10441532, 0.09833113, 0.08544695, 0.07994481, 0.07679374,\n",
       "        0.0850984 , 0.09522714, 0.09711887, 0.09155704, 0.08671364,\n",
       "        0.08446349, 0.08111264, 0.08058386, 0.08693732, 0.10673755,\n",
       "        0.1461429 , 0.13931586, 0.12613258, 0.11945158],\n",
       "       [0.12351146, 0.11652316, 0.11188124, 0.10873917, 0.11580307,\n",
       "        0.12701572, 0.14515673, 0.16020699, 0.16813248, 0.16051214,\n",
       "        0.16277473, 0.16285293, 0.15370657, 0.15505583, 0.15488382,\n",
       "        0.15613379, 0.15170423, 0.14499137, 0.13909018, 0.1403184 ,\n",
       "        0.13828677, 0.13779017, 0.13385724, 0.12789685],\n",
       "       [0.12766592, 0.12819933, 0.125888  , 0.12364237, 0.12205749,\n",
       "        0.11932269, 0.11585419, 0.11475165, 0.11203126, 0.10908948,\n",
       "        0.10943631, 0.111038  , 0.11386593, 0.11991311, 0.12563287,\n",
       "        0.12812345, 0.12511785, 0.12237862, 0.11961358, 0.1164579 ,\n",
       "        0.12095747, 0.12397591, 0.12657926, 0.12738349]])"
      ]
     },
     "execution_count": 20,
     "metadata": {},
     "output_type": "execute_result"
    }
   ],
   "source": [
    "clustering.cluster_centers_"
   ]
  },
  {
   "cell_type": "code",
   "execution_count": 22,
   "id": "conscious-buddy",
   "metadata": {},
   "outputs": [],
   "source": [
    "cls_list = algorithm.predict(kmeans_df.drop(['cat', 'day'], axis = 1))"
   ]
  },
  {
   "cell_type": "code",
   "execution_count": 23,
   "id": "injured-relaxation",
   "metadata": {},
   "outputs": [],
   "source": [
    "kmeans_df['cluster'] = cls_list"
   ]
  },
  {
   "cell_type": "code",
   "execution_count": 24,
   "id": "objective-mortality",
   "metadata": {},
   "outputs": [],
   "source": [
    "def print_building_types_in_clusters(data):\n",
    "    for tp in data['cat'].unique():\n",
    "        print('How many cat of type', tp, 'are in each cluster?')\n",
    "        print(data[data.cat == tp]['cluster'].value_counts())"
   ]
  },
  {
   "cell_type": "code",
   "execution_count": 25,
   "id": "musical-breathing",
   "metadata": {},
   "outputs": [
    {
     "name": "stdout",
     "output_type": "stream",
     "text": [
      "How many cat of type 141 are in each cluster?\n",
      "3    6\n",
      "1    1\n",
      "Name: cluster, dtype: int64\n",
      "How many cat of type 142 are in each cluster?\n",
      "5    4\n",
      "2    3\n",
      "Name: cluster, dtype: int64\n",
      "How many cat of type 245 are in each cluster?\n",
      "2    7\n",
      "Name: cluster, dtype: int64\n",
      "How many cat of type 343 are in each cluster?\n",
      "0    4\n",
      "4    3\n",
      "Name: cluster, dtype: int64\n",
      "How many cat of type 546 are in each cluster?\n",
      "1    5\n",
      "2    2\n",
      "Name: cluster, dtype: int64\n",
      "How many cat of type 846 are in each cluster?\n",
      "1    6\n",
      "5    1\n",
      "Name: cluster, dtype: int64\n"
     ]
    }
   ],
   "source": [
    "print_building_types_in_clusters(kmeans_df)"
   ]
  },
  {
   "cell_type": "code",
   "execution_count": 26,
   "id": "featured-affiliate",
   "metadata": {},
   "outputs": [],
   "source": [
    "def make_cluster_table(data):\n",
    "    tbl = data[['cat', 'cluster']]\n",
    "    tbl_grp = tbl.groupby(tbl.columns.tolist(), as_index = False).size()\n",
    "    tbl_frm = tbl_grp#.reset_index().drop('index')\n",
    "    \n",
    "    tbl_frm.columns = ['cat', 'cluster','count']\n",
    "    tbl_pvt = pd.pivot_table(tbl_frm, index = 'cat', columns = 'cluster', values = 'count').fillna(0).astype(int)\n",
    "    return (tbl_frm, tbl_pvt)"
   ]
  },
  {
   "cell_type": "code",
   "execution_count": 27,
   "id": "square-olympus",
   "metadata": {},
   "outputs": [
    {
     "data": {
      "text/html": [
       "<div>\n",
       "<style scoped>\n",
       "    .dataframe tbody tr th:only-of-type {\n",
       "        vertical-align: middle;\n",
       "    }\n",
       "\n",
       "    .dataframe tbody tr th {\n",
       "        vertical-align: top;\n",
       "    }\n",
       "\n",
       "    .dataframe thead th {\n",
       "        text-align: right;\n",
       "    }\n",
       "</style>\n",
       "<table border=\"1\" class=\"dataframe\">\n",
       "  <thead>\n",
       "    <tr style=\"text-align: right;\">\n",
       "      <th>cluster</th>\n",
       "      <th>0</th>\n",
       "      <th>1</th>\n",
       "      <th>2</th>\n",
       "      <th>3</th>\n",
       "      <th>4</th>\n",
       "      <th>5</th>\n",
       "    </tr>\n",
       "    <tr>\n",
       "      <th>cat</th>\n",
       "      <th></th>\n",
       "      <th></th>\n",
       "      <th></th>\n",
       "      <th></th>\n",
       "      <th></th>\n",
       "      <th></th>\n",
       "    </tr>\n",
       "  </thead>\n",
       "  <tbody>\n",
       "    <tr>\n",
       "      <th>141</th>\n",
       "      <td>0</td>\n",
       "      <td>1</td>\n",
       "      <td>0</td>\n",
       "      <td>6</td>\n",
       "      <td>0</td>\n",
       "      <td>0</td>\n",
       "    </tr>\n",
       "    <tr>\n",
       "      <th>142</th>\n",
       "      <td>0</td>\n",
       "      <td>0</td>\n",
       "      <td>3</td>\n",
       "      <td>0</td>\n",
       "      <td>0</td>\n",
       "      <td>4</td>\n",
       "    </tr>\n",
       "    <tr>\n",
       "      <th>245</th>\n",
       "      <td>0</td>\n",
       "      <td>0</td>\n",
       "      <td>7</td>\n",
       "      <td>0</td>\n",
       "      <td>0</td>\n",
       "      <td>0</td>\n",
       "    </tr>\n",
       "    <tr>\n",
       "      <th>343</th>\n",
       "      <td>4</td>\n",
       "      <td>0</td>\n",
       "      <td>0</td>\n",
       "      <td>0</td>\n",
       "      <td>3</td>\n",
       "      <td>0</td>\n",
       "    </tr>\n",
       "    <tr>\n",
       "      <th>546</th>\n",
       "      <td>0</td>\n",
       "      <td>5</td>\n",
       "      <td>2</td>\n",
       "      <td>0</td>\n",
       "      <td>0</td>\n",
       "      <td>0</td>\n",
       "    </tr>\n",
       "    <tr>\n",
       "      <th>846</th>\n",
       "      <td>0</td>\n",
       "      <td>6</td>\n",
       "      <td>0</td>\n",
       "      <td>0</td>\n",
       "      <td>0</td>\n",
       "      <td>1</td>\n",
       "    </tr>\n",
       "  </tbody>\n",
       "</table>\n",
       "</div>"
      ],
      "text/plain": [
       "cluster  0  1  2  3  4  5\n",
       "cat                      \n",
       "141      0  1  0  6  0  0\n",
       "142      0  0  3  0  0  4\n",
       "245      0  0  7  0  0  0\n",
       "343      4  0  0  0  3  0\n",
       "546      0  5  2  0  0  0\n",
       "846      0  6  0  0  0  1"
      ]
     },
     "execution_count": 27,
     "metadata": {},
     "output_type": "execute_result"
    }
   ],
   "source": [
    "tbl_frm, tbl_pvt = make_cluster_table(kmeans_df)\n",
    "tbl_pvt"
   ]
  },
  {
   "cell_type": "code",
   "execution_count": 28,
   "id": "revised-covering",
   "metadata": {},
   "outputs": [],
   "source": [
    "\n",
    "\n",
    "from matplotlib.ticker import MaxNLocator\n",
    "\n",
    "def cluster_scatter_plot(tbl_frm):\n",
    "    type_uniq, type_n = np.unique(tbl_frm['cat'], return_inverse = True)\n",
    "    fig = plt.figure()\n",
    "    ax = fig.add_subplot(111)\n",
    "    ax.scatter(x = tbl_frm['cluster'], y = type_n, s = tbl_frm['count'])\n",
    "    ax.set(yticks = np.unique(type_n), yticklabels = type_uniq)\n",
    "    plt.show()\n",
    "\n"
   ]
  },
  {
   "cell_type": "code",
   "execution_count": 29,
   "id": "broad-latter",
   "metadata": {},
   "outputs": [
    {
     "data": {
      "image/png": "[encoded data removed]",
      "text/plain": [
       "<Figure size 432x288 with 1 Axes>"
      ]
     },
     "metadata": {},
     "output_type": "display_data"
    }
   ],
   "source": [
    "cluster_scatter_plot(tbl_frm)"
   ]
  },
  {
   "cell_type": "code",
   "execution_count": 30,
   "id": "weird-presence",
   "metadata": {},
   "outputs": [
    {
     "data": {
      "text/html": [
       "<div>\n",
       "<style scoped>\n",
       "    .dataframe tbody tr th:only-of-type {\n",
       "        vertical-align: middle;\n",
       "    }\n",
       "\n",
       "    .dataframe tbody tr th {\n",
       "        vertical-align: top;\n",
       "    }\n",
       "\n",
       "    .dataframe thead th {\n",
       "        text-align: right;\n",
       "    }\n",
       "</style>\n",
       "<table border=\"1\" class=\"dataframe\">\n",
       "  <thead>\n",
       "    <tr style=\"text-align: right;\">\n",
       "      <th></th>\n",
       "      <th>cat</th>\n",
       "      <th>cluster</th>\n",
       "      <th>count</th>\n",
       "    </tr>\n",
       "  </thead>\n",
       "  <tbody>\n",
       "    <tr>\n",
       "      <th>0</th>\n",
       "      <td>141</td>\n",
       "      <td>1</td>\n",
       "      <td>1</td>\n",
       "    </tr>\n",
       "    <tr>\n",
       "      <th>1</th>\n",
       "      <td>141</td>\n",
       "      <td>3</td>\n",
       "      <td>6</td>\n",
       "    </tr>\n",
       "    <tr>\n",
       "      <th>2</th>\n",
       "      <td>142</td>\n",
       "      <td>2</td>\n",
       "      <td>3</td>\n",
       "    </tr>\n",
       "    <tr>\n",
       "      <th>3</th>\n",
       "      <td>142</td>\n",
       "      <td>5</td>\n",
       "      <td>4</td>\n",
       "    </tr>\n",
       "    <tr>\n",
       "      <th>4</th>\n",
       "      <td>245</td>\n",
       "      <td>2</td>\n",
       "      <td>7</td>\n",
       "    </tr>\n",
       "  </tbody>\n",
       "</table>\n",
       "</div>"
      ],
      "text/plain": [
       "   cat  cluster  count\n",
       "0  141        1      1\n",
       "1  141        3      6\n",
       "2  142        2      3\n",
       "3  142        5      4\n",
       "4  245        2      7"
      ]
     },
     "execution_count": 30,
     "metadata": {},
     "output_type": "execute_result"
    }
   ],
   "source": [
    " tbl_frm.head()"
   ]
  },
  {
   "cell_type": "code",
   "execution_count": 31,
   "id": "fresh-tongue",
   "metadata": {},
   "outputs": [],
   "source": [
    "def compute_building_share(original_df, kmeans_df, tbl_frm):\n",
    "    bld_share = {}\n",
    "    for tp in original_df['cat'].unique():\n",
    "        tot_num_buildings = len(original_df[original_df.cat == tp].groupby('NIS'))\n",
    "        bld_share[tp] = {}\n",
    "        for c in kmeans_df['cluster'].unique():\n",
    "            nb = tbl_frm[(tbl_frm.cat == tp) & (tbl_frm.cluster == c)]['count']\n",
    "            if not nb.empty:\n",
    "                bld_share[tp][c] = int(nb) / tot_num_buildings\n",
    "    return bld_share"
   ]
  },
  {
   "cell_type": "code",
   "execution_count": 32,
   "id": "modular-writer",
   "metadata": {},
   "outputs": [],
   "source": [
    "bld_share = compute_building_share(dd, kmeans_df, tbl_frm)\n",
    "tbl_frm['bld_pct'] = tbl_frm.apply(lambda row: bld_share[row['cat']][row['cluster']], axis = 1)"
   ]
  },
  {
   "cell_type": "code",
   "execution_count": 33,
   "id": "honest-cross",
   "metadata": {},
   "outputs": [],
   "source": [
    "def norm_cluster_scatter_plot(tbl_frm):\n",
    "    type_uniq, type_n = np.unique(tbl_frm['cat'], return_inverse = True)\n",
    "    fig = plt.figure()\n",
    "    ax = fig.add_subplot(111)\n",
    "    ax.scatter(x = tbl_frm['cluster'], y = type_n, s = tbl_frm['bld_pct'].apply(lambda x: x * 100))\n",
    "    ax.set(yticks = np.unique(type_n), yticklabels = type_uniq);"
   ]
  },
  {
   "cell_type": "code",
   "execution_count": 34,
   "id": "solid-sellers",
   "metadata": {},
   "outputs": [
    {
     "data": {
      "image/png": "[encoded data removed]",
      "text/plain": [
       "<Figure size 432x288 with 1 Axes>"
      ]
     },
     "metadata": {},
     "output_type": "display_data"
    }
   ],
   "source": [
    "norm_cluster_scatter_plot(tbl_frm)"
   ]
  },
  {
   "cell_type": "code",
   "execution_count": 35,
   "id": "advised-stick",
   "metadata": {},
   "outputs": [],
   "source": [
    "def multiline_hourly_plot(dataset, avg = None, ycol = 'KWh', ymin = None, ymax = None, opacity = None, title = None):\n",
    "    fig, ax = plt.subplots()\n",
    "    \n",
    "    if ymin is not None:\n",
    "        ax.set_ylim(bottom = ymin)\n",
    "    \n",
    "    if ymax is not None:\n",
    "        ax.set_ylim(top = ymax)\n",
    "        \n",
    "    if opacity is None:\n",
    "        opacity = 0.01\n",
    "\n",
    "    for key, group in dataset:\n",
    "        ax = group.groupby('hour').mean().plot(ax = ax, y = ycol, color = '#000000', alpha = opacity)\n",
    "    \n",
    "    if avg is not None:\n",
    "        ax = avg.groupby('hour').mean().plot(ax = ax, y = ycol, color = '#FF0000', alpha = 1, linewidth = 2)\n",
    "        \n",
    "    if title is not None:\n",
    "        ax.set_title(title)\n",
    "\n",
    "    ax.legend().set_visible(False) # Disable the plot legend\n",
    "    plt.show()"
   ]
  },
  {
   "cell_type": "code",
   "execution_count": 36,
   "id": "signed-trouble",
   "metadata": {},
   "outputs": [],
   "source": [
    "def clusters_visualisation(kmeans_df, id_vars, value_vars):\n",
    "    melt_df = pd.melt(kmeans_df, id_vars = id_vars, value_vars = value_vars, var_name = 'hour', value_name = 'norm_KWh')\n",
    "    clusters = kmeans_df['cluster'].unique()\n",
    "    clusters.sort()\n",
    "    for c in clusters:\n",
    "        avg = melt_df[melt_df.cluster == c]\n",
    "        data = avg.groupby(id_vars)\n",
    "        multiline_hourly_plot(data, avg = avg, ymin = 0, ycol = 'norm_KWh', opacity = 0.1, title = 'Cluster ' + str(c))"
   ]
  },
  {
   "cell_type": "code",
   "execution_count": 38,
   "id": "pressing-shannon",
   "metadata": {},
   "outputs": [
    {
     "data": {
      "image/png": "[encoded data removed]",
      "text/plain": [
       "<Figure size 432x288 with 1 Axes>"
      ]
     },
     "metadata": {},
     "output_type": "display_data"
    },
    {
     "data": {
      "image/png": "[encoded data removed]",
      "text/plain": [
       "<Figure size 432x288 with 1 Axes>"
      ]
     },
     "metadata": {},
     "output_type": "display_data"
    },
    {
     "data": {
      "image/png": "[encoded data removed]",
      "text/plain": [
       "<Figure size 432x288 with 1 Axes>"
      ]
     },
     "metadata": {},
     "output_type": "display_data"
    },
    {
     "data": {
      "image/png": "[encoded data removed]",
      "text/plain": [
       "<Figure size 432x288 with 1 Axes>"
      ]
     },
     "metadata": {},
     "output_type": "display_data"
    },
    {
     "data": {
      "image/png": "[encoded data removed]",
      "text/plain": [
       "<Figure size 432x288 with 1 Axes>"
      ]
     },
     "metadata": {},
     "output_type": "display_data"
    },
    {
     "data": {
      "image/png": "[encoded data removed]",
      "text/plain": [
       "<Figure size 432x288 with 1 Axes>"
      ]
     },
     "metadata": {},
     "output_type": "display_data"
    }
   ],
   "source": [
    "clusters_visualisation(kmeans_df, id_vars = ['cat', 'day', 'cluster'], value_vars = list(kmeans_df.columns[4:28]))"
   ]
  },
  {
   "cell_type": "code",
   "execution_count": null,
   "id": "chief-relaxation",
   "metadata": {},
   "outputs": [],
   "source": []
  }
 ],
 "metadata": {
  "kernelspec": {
   "display_name": "Python 3 (ipykernel)",
   "language": "python",
   "name": "python3"
  },
  "language_info": {
   "codemirror_mode": {
    "name": "ipython",
    "version": 3
   },
   "file_extension": ".py",
   "mimetype": "text/x-python",
   "name": "python",
   "nbconvert_exporter": "python",
   "pygments_lexer": "ipython3",
   "version": "3.10.9"
  }
 },
 "nbformat": 4,
 "nbformat_minor": 5
}
