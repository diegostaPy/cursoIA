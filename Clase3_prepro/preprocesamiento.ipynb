{
 "cells": [
  {
   "cell_type": "code",
   "execution_count": 19,
   "metadata": {},
   "outputs": [
    {
     "name": "stdout",
     "output_type": "stream",
     "text": [
      "<class 'pandas.core.frame.DataFrame'>\n",
      "RangeIndex: 5 entries, 0 to 4\n",
      "Data columns (total 3 columns):\n",
      " #   Column  Non-Null Count  Dtype  \n",
      "---  ------  --------------  -----  \n",
      " 0   A       4 non-null      float64\n",
      " 1   B       3 non-null      float64\n",
      " 2   C       4 non-null      object \n",
      "dtypes: float64(2), object(1)\n",
      "memory usage: 248.0+ bytes\n"
     ]
    }
   ],
   "source": [
    "import pandas as pd\n",
    "\n",
    "data = {\n",
    "    'A': [1, 2, None, 4, 5],\n",
    "    'B': [None, 2, 3, 4, None],\n",
    "    'C': ['X', 'Y', None, 'X', 'Z']\n",
    "}\n",
    "\n",
    "df = pd.DataFrame(data)\n",
    "\n",
    "df.info()\n"
   ]
  },
  {
   "cell_type": "code",
   "execution_count": 15,
   "metadata": {},
   "outputs": [
    {
     "data": {
      "text/html": [
       "<div>\n",
       "<style scoped>\n",
       "    .dataframe tbody tr th:only-of-type {\n",
       "        vertical-align: middle;\n",
       "    }\n",
       "\n",
       "    .dataframe tbody tr th {\n",
       "        vertical-align: top;\n",
       "    }\n",
       "\n",
       "    .dataframe thead th {\n",
       "        text-align: right;\n",
       "    }\n",
       "</style>\n",
       "<table border=\"1\" class=\"dataframe\">\n",
       "  <thead>\n",
       "    <tr style=\"text-align: right;\">\n",
       "      <th></th>\n",
       "      <th>A</th>\n",
       "      <th>B</th>\n",
       "      <th>C</th>\n",
       "    </tr>\n",
       "  </thead>\n",
       "  <tbody>\n",
       "    <tr>\n",
       "      <th>0</th>\n",
       "      <td>1.0</td>\n",
       "      <td>NaN</td>\n",
       "      <td>X</td>\n",
       "    </tr>\n",
       "    <tr>\n",
       "      <th>1</th>\n",
       "      <td>2.0</td>\n",
       "      <td>2.0</td>\n",
       "      <td>Y</td>\n",
       "    </tr>\n",
       "    <tr>\n",
       "      <th>2</th>\n",
       "      <td>NaN</td>\n",
       "      <td>3.0</td>\n",
       "      <td>None</td>\n",
       "    </tr>\n",
       "    <tr>\n",
       "      <th>3</th>\n",
       "      <td>4.0</td>\n",
       "      <td>4.0</td>\n",
       "      <td>X</td>\n",
       "    </tr>\n",
       "    <tr>\n",
       "      <th>4</th>\n",
       "      <td>5.0</td>\n",
       "      <td>NaN</td>\n",
       "      <td>Z</td>\n",
       "    </tr>\n",
       "  </tbody>\n",
       "</table>\n",
       "</div>"
      ],
      "text/plain": [
       "     A    B     C\n",
       "0  1.0  NaN     X\n",
       "1  2.0  2.0     Y\n",
       "2  NaN  3.0  None\n",
       "3  4.0  4.0     X\n",
       "4  5.0  NaN     Z"
      ]
     },
     "execution_count": 15,
     "metadata": {},
     "output_type": "execute_result"
    }
   ],
   "source": [
    "df.tail()"
   ]
  },
  {
   "cell_type": "code",
   "execution_count": 16,
   "metadata": {},
   "outputs": [
    {
     "name": "stdout",
     "output_type": "stream",
     "text": [
      "\n",
      "Valores nulos por columna:\n",
      "A    1\n",
      "B    2\n",
      "C    1\n",
      "dtype: int64\n"
     ]
    }
   ],
   "source": [
    "print(\"\\nValores nulos por columna:\") \n",
    "print(df.isnull().sum()) \n"
   ]
  },
  {
   "cell_type": "code",
   "execution_count": 17,
   "metadata": {},
   "outputs": [
    {
     "name": "stdout",
     "output_type": "stream",
     "text": [
      "\n",
      "DataFrame después de eliminar filas con valores nulos:\n",
      "     A    B  C\n",
      "1  2.0  2.0  Y\n",
      "3  4.0  4.0  X\n"
     ]
    }
   ],
   "source": [
    "# Eliminación de filas con al menos un valor nulo \n",
    "df_dropna = df.dropna() \n",
    "print(\"\\nDataFrame después de eliminar filas con valores nulos:\") \n",
    "print(df_dropna) \n"
   ]
  },
  {
   "cell_type": "code",
   "execution_count": 20,
   "metadata": {},
   "outputs": [
    {
     "name": "stdout",
     "output_type": "stream",
     "text": [
      "\n",
      "DataFrame después de eliminar columnas con valores nulos:\n",
      "Empty DataFrame\n",
      "Columns: []\n",
      "Index: [0, 1, 2, 3, 4]\n"
     ]
    }
   ],
   "source": [
    "\n",
    "# Eliminación de columnas con al menos un valor nulo \n",
    "df_dropna_column = df.dropna(axis=1) \n",
    "print(\"\\nDataFrame después de eliminar columnas con valores nulos:\") \n",
    "print(df_dropna_column) \n"
   ]
  },
  {
   "cell_type": "code",
   "execution_count": 21,
   "metadata": {},
   "outputs": [
    {
     "name": "stdout",
     "output_type": "stream",
     "text": [
      "\n",
      "DataFrame después de imputar valores nulos usando la media:\n",
      "     A    B\n",
      "0  1.0  3.0\n",
      "1  2.0  2.0\n",
      "2  3.0  3.0\n",
      "3  4.0  4.0\n",
      "4  5.0  3.0\n"
     ]
    }
   ],
   "source": [
    "\n",
    "data2 = {\n",
    "    'A': [1, 2, None, 4, 5],\n",
    "    'B': [None, 2, 3, 4, None]\n",
    "    }\n",
    "df2 = pd.DataFrame(data2)\n",
    "\n",
    "# Imputación utilizando la estrategia de media\n",
    "df2_imputed_mean = df2.fillna(df2.mean())\n",
    "print(\"\\nDataFrame después de imputar valores nulos usando la media:\")\n",
    "print(df2_imputed_mean )\n"
   ]
  },
  {
   "cell_type": "code",
   "execution_count": 6,
   "metadata": {},
   "outputs": [
    {
     "name": "stdout",
     "output_type": "stream",
     "text": [
      "\n",
      "DataFrame después de imputar valores nulos en columnas :\n",
      "     A    B  C\n",
      "0  1.0  3.0  X\n",
      "1  2.0  2.0  Y\n",
      "2  3.0  3.0  X\n",
      "3  4.0  4.0  X\n",
      "4  5.0  3.0  Z\n"
     ]
    }
   ],
   "source": [
    "df = pd.DataFrame(data)\n",
    "\n",
    "# Imputación de valores nulos en columnas categóricas usando la moda para categoricos y media para numericos\n",
    "df_imputed = df.apply(lambda col: col.fillna(col.mode()[0]) if col.dtype == 'object' else col.fillna(col.mean()), axis=0)\n",
    "print(\"\\nDataFrame después de imputar valores nulos en columnas :\")\n",
    "print(df_imputed)"
   ]
  },
  {
   "cell_type": "code",
   "execution_count": 7,
   "metadata": {},
   "outputs": [
    {
     "name": "stdout",
     "output_type": "stream",
     "text": [
      "\n",
      "DataFrame después de imputar valores nulos en columnas categóricas usando la moda:\n",
      "     A    B  C\n",
      "0  1.0  3.0  X\n",
      "1  2.0  2.0  Y\n",
      "2  3.0  3.0  X\n",
      "3  4.0  4.0  X\n",
      "4  5.0  3.0  Z\n"
     ]
    }
   ],
   "source": [
    "df = pd.DataFrame(data)\n",
    "\n",
    "# Imputación de valores nulos en columnas categóricas usando la moda para categoricos y mediana para numericos\n",
    "df_imputed= df.apply(lambda col: col.fillna(col.mode()[0]) \n",
    "if col.dtype == 'object' else col.fillna(col.median()),\n",
    " axis=0)\n",
    "print(\"\\nDataFrame después de imputar valores nulos en columnas categóricas usando la moda:\")\n",
    "print(df_imputed)\n"
   ]
  },
  {
   "cell_type": "code",
   "execution_count": null,
   "metadata": {},
   "outputs": [],
   "source": []
  },
  {
   "cell_type": "code",
   "execution_count": null,
   "metadata": {},
   "outputs": [],
   "source": []
  },
  {
   "cell_type": "code",
   "execution_count": 9,
   "metadata": {},
   "outputs": [
    {
     "data": {
      "image/png": "[encoded data removed]",
      "text/plain": [
       "<Figure size 640x480 with 1 Axes>"
      ]
     },
     "metadata": {},
     "output_type": "display_data"
    },
    {
     "name": "stdout",
     "output_type": "stream",
     "text": [
      "Valores atípicos detectados:\n",
      "A    2\n",
      "B    0\n",
      "C    3\n",
      "dtype: int64\n"
     ]
    }
   ],
   "source": [
    "import numpy as np\n",
    "import matplotlib.pyplot as plt\n",
    "# Generamos un conjunto de datos de prueba con valores atípicos\n",
    "np.random.seed(0)\n",
    "data = {\n",
    "    'A': np.random.normal(loc=0, scale=1, size=100),\n",
    "    'B': np.random.normal(loc=0, scale=1, size=100),\n",
    "    'C': np.random.normal(loc=0, scale=1, size=100)\n",
    "}\n",
    "# Introducimos valores atípicos en la columna 'A'\n",
    "data['A'][0] = 10\n",
    "data['A'][1] = -10\n",
    "df = pd.DataFrame(data)\n",
    "\n",
    "# Creamos un boxplot para visualizar la distribución de los datos\n",
    "df.boxplot()\n",
    "plt.title('Boxplot de los datos')\n",
    "plt.show()\n",
    "\n",
    "# Calculamos el rango intercuartílico (IQR) para cada columna\n",
    "Q1 = df.quantile(0.25)\n",
    "Q3 = df.quantile(0.75)\n",
    "IQR = Q3 - Q1\n",
    "\n",
    "# Definimos el límite para considerar valores atípicos\n",
    "outlier_threshold = 1.5\n",
    "\n",
    "# Identificamos valores atípicos utilizando el criterio del IQR\n",
    "outliers = (df < (Q1 - outlier_threshold * IQR)) | (df > (Q3 + outlier_threshold * IQR))\n",
    "\n",
    "print(\"Valores atípicos detectados:\")\n",
    "print(outliers.sum())"
   ]
  },
  {
   "cell_type": "code",
   "execution_count": null,
   "metadata": {},
   "outputs": [],
   "source": []
  },
  {
   "cell_type": "code",
   "execution_count": null,
   "metadata": {},
   "outputs": [],
   "source": []
  },
  {
   "cell_type": "code",
   "execution_count": null,
   "metadata": {},
   "outputs": [],
   "source": []
  },
  {
   "cell_type": "code",
   "execution_count": null,
   "metadata": {},
   "outputs": [],
   "source": []
  },
  {
   "cell_type": "code",
   "execution_count": null,
   "metadata": {},
   "outputs": [],
   "source": []
  },
  {
   "cell_type": "code",
   "execution_count": null,
   "metadata": {},
   "outputs": [],
   "source": []
  },
  {
   "cell_type": "code",
   "execution_count": null,
   "metadata": {},
   "outputs": [],
   "source": []
  },
  {
   "cell_type": "code",
   "execution_count": null,
   "metadata": {},
   "outputs": [],
   "source": []
  },
  {
   "cell_type": "code",
   "execution_count": 24,
   "metadata": {},
   "outputs": [
    {
     "name": "stdout",
     "output_type": "stream",
     "text": [
      "DataFrame original:\n",
      "         Dia\n",
      "0      Lunes\n",
      "1     Martes\n",
      "2  Miércoles\n",
      "3     Jueves\n",
      "4    Viernes\n",
      "5     Sábado\n",
      "6    Domingo\n",
      "\n",
      "DataFrame después de codificar los días de la semana usando seno y coseno:\n",
      "         Dia  Seno_Dia  Coseno_Dia\n",
      "0      Lunes  0.000000    1.000000\n",
      "1     Martes  0.781831    0.623490\n",
      "2  Miércoles  0.974928   -0.222521\n",
      "3     Jueves  0.433884   -0.900969\n",
      "4    Viernes -0.433884   -0.900969\n",
      "5     Sábado -0.974928   -0.222521\n",
      "6    Domingo -0.781831    0.623490\n"
     ]
    }
   ],
   "source": [
    "import pandas as pd\n",
    "import numpy as np\n",
    "\n",
    "# Creamos un DataFrame de ejemplo con los días de la semana\n",
    "dias_semana = ['Lunes', 'Martes', 'Miércoles', 'Jueves', 'Viernes', 'Sábado', 'Domingo']\n",
    "\n",
    "# Creamos un DataFrame con una columna de días de la semana\n",
    "df = pd.DataFrame({'Dia': dias_semana})\n",
    "print(\"DataFrame original:\")\n",
    "print(df)\n",
    "\n",
    "# Creamos una función para codificar los días de la semana usando seno y coseno\n",
    "def codificar_dia(dia):\n",
    "    angulo = dias_semana.index(dia) * (2 * np.pi / len(dias_semana))\n",
    "    return np.sin(angulo), np.cos(angulo)\n",
    "\n",
    "# Aplicamos la función a cada fila del DataFrame\n",
    "df[['Seno_Dia', 'Coseno_Dia']] = df['Dia'].apply(codificar_dia).apply(pd.Series)\n",
    "\n",
    "print(\"\\nDataFrame después de codificar los días de la semana usando seno y coseno:\")\n",
    "print(df)"
   ]
  },
  {
   "cell_type": "code",
   "execution_count": 11,
   "metadata": {},
   "outputs": [
    {
     "data": {
      "image/png": "[encoded data removed]",
      "text/plain": [
       "<Figure size 600x600 with 1 Axes>"
      ]
     },
     "metadata": {},
     "output_type": "display_data"
    }
   ],
   "source": [
    "import matplotlib.pyplot as plt\n",
    "\n",
    "# Creamos un gráfico de dispersión para visualizar la codificación de los días de la semana\n",
    "plt.figure(figsize=(6, 6))\n",
    "plt.scatter(df['Coseno_Dia'], df['Seno_Dia'], color='blue')\n",
    "plt.title('Codificación de los días de la semana')\n",
    "plt.xlabel('Coseno del ángulo')\n",
    "plt.ylabel('Seno del ángulo')\n",
    "\n",
    "# Añadimos etiquetas para los días de la semana\n",
    "for i, dia in enumerate(dias_semana):\n",
    "    plt.text(df.loc[i, 'Coseno_Dia'], df.loc[i, 'Seno_Dia'], dia, fontsize=9, ha='right')\n",
    "\n",
    "plt.grid(True)\n",
    "plt.axhline(0, color='black',linewidth=0.5)\n",
    "plt.axvline(0, color='black',linewidth=0.5)\n",
    "plt.gca().set_aspect('equal', adjustable='box')\n",
    "plt.show()\n",
    "\n"
   ]
  },
  {
   "cell_type": "code",
   "execution_count": null,
   "metadata": {},
   "outputs": [],
   "source": []
  },
  {
   "cell_type": "code",
   "execution_count": null,
   "metadata": {},
   "outputs": [],
   "source": []
  }
 ],
 "metadata": {
  "kernelspec": {
   "display_name": "IA",
   "language": "python",
   "name": "python3"
  },
  "language_info": {
   "codemirror_mode": {
    "name": "ipython",
    "version": 3
   },
   "file_extension": ".py",
   "mimetype": "text/x-python",
   "name": "python",
   "nbconvert_exporter": "python",
   "pygments_lexer": "ipython3",
   "version": "3.10.11"
  }
 },
 "nbformat": 4,
 "nbformat_minor": 2
}
