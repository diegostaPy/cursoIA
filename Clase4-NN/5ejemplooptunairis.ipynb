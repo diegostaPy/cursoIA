{
 "cells": [
  {
   "cell_type": "markdown",
   "metadata": {},
   "source": [
    "    Dataset Iris:\n",
    "        Cargamos el dataset Iris, que es más pequeño y contiene 150 ejemplos con 4 características.\n",
    "        Utilizamos one-hot encoding para las etiquetas de las 3 clases (setosa, versicolor, virginica).\n",
    "\n",
    "    Red Neuronal:\n",
    "        El modelo tiene un número de capas ocultas y neuronas configurables (optimizados por Optuna).\n",
    "        La última capa tiene 3 neuronas para clasificar las 3 clases de Iris con activación softmax.\n",
    "\n",
    "    Función Objetivo Multiobjetivo:\n",
    "        Se calculan precisión y recall y se optimizan juntos.\n",
    "        La suma de (1 - precisión) + (1 - recall) se minimiza para maximizar ambos.\n",
    "\n",
    "    Visualización:\n",
    "        Usamos optuna.visualization.plot_param_importances() para visualizar la importancia de los hiperparámetros.\n",
    "        Creamos una función plot_pareto_front() para visualizar el frente de Pareto entre la precisión y el recall.\n",
    "\n",
    "Explicación de los Resultados:\n",
    "\n",
    "    Importancia de los Hiperparámetros: Optuna nos permite visualizar qué hiperparámetros tienen el mayor impacto en el rendimiento del modelo.\n",
    "    Frente de Pareto: Muestra el equilibrio entre precisión y recall, donde se pueden ver los puntos en el gráfico que representan un trade-off entre estos dos objetivos."
   ]
  },
  {
   "cell_type": "code",
   "execution_count": 7,
   "metadata": {},
   "outputs": [],
   "source": [
    "import optuna\n",
    "import tensorflow as tf\n",
    "from tensorflow.keras.models import Sequential\n",
    "from tensorflow.keras.layers import Dense\n",
    "from tensorflow.keras.utils import to_categorical\n",
    "from sklearn.datasets import load_iris\n",
    "from sklearn.model_selection import train_test_split\n",
    "from sklearn.metrics import precision_score, recall_score\n",
    "\n",
    "# Cargar el conjunto de datos Iris\n",
    "iris = load_iris()\n",
    "X, y = iris.data, iris.target\n",
    "\n",
    "# Convertir las etiquetas a categóricas (one-hot encoding)\n",
    "y = to_categorical(y)\n",
    "\n",
    "# Dividir en conjunto de entrenamiento y prueba\n",
    "X_train, X_test, y_train, y_test = train_test_split(X, y, test_size=0.2, random_state=42)\n",
    "\n",
    "\n"
   ]
  },
  {
   "cell_type": "code",
   "execution_count": 8,
   "metadata": {},
   "outputs": [],
   "source": [
    "\n",
    "# Crear el modelo en función de los hiperparámetros propuestos por Optuna\n",
    "def create_model(trial):\n",
    "    model = Sequential()\n",
    "    input_dim = X_train.shape[1]\n",
    "\n",
    "    # Sugerir el número de capas ocultas y las unidades en cada capa\n",
    "    n_layers = trial.suggest_int('n_layers', 1, 3)\n",
    "    for i in range(n_layers):\n",
    "        num_units = trial.suggest_int(f'n_units_l{i}', 4, 128)\n",
    "        model.add(Dense(num_units, activation=trial.suggest_categorical(f'activation_l{i}', ['relu', 'tanh']), input_dim=input_dim if i == 0 else None))\n",
    "\n",
    "    model.add(Dense(3, activation='softmax'))  # Salida para 3 clases\n",
    "\n",
    "    # Compilar el modelo\n",
    "    optimizer = trial.suggest_categorical('optimizer', ['adam', 'rmsprop', 'sgd'])\n",
    "    model.compile(optimizer=optimizer, loss='categorical_crossentropy', metrics=['accuracy'])\n",
    "    \n",
    "    return model\n"
   ]
  },
  {
   "cell_type": "code",
   "execution_count": 9,
   "metadata": {},
   "outputs": [
    {
     "name": "stderr",
     "output_type": "stream",
     "text": [
      "\u001b[32m[I 2024-09-06 08:57:26,612]\u001b[0m A new study created in memory with name: Multi-Objective Optimization (Precision vs Recall)\u001b[0m\n"
     ]
    },
    {
     "name": "stdout",
     "output_type": "stream",
     "text": [
      "1/1 [==============================] - 0s 42ms/step\n"
     ]
    },
    {
     "name": "stderr",
     "output_type": "stream",
     "text": [
      "\u001b[32m[I 2024-09-06 08:57:27,259]\u001b[0m Trial 0 finished with values: [0.11764705882352944, 0.22222222222222232] and parameters: {'n_layers': 1, 'n_units_l0': 67, 'activation_l0': 'relu', 'optimizer': 'sgd', 'batch_size': 51, 'epochs': 28}. \u001b[0m\n"
     ]
    },
    {
     "name": "stdout",
     "output_type": "stream",
     "text": [
      "1/1 [==============================] - 0s 53ms/step\n"
     ]
    },
    {
     "name": "stderr",
     "output_type": "stream",
     "text": [
      "\u001b[32m[I 2024-09-06 08:57:28,102]\u001b[0m Trial 1 finished with values: [0.02777777777777779, 0.03703703703703709] and parameters: {'n_layers': 3, 'n_units_l0': 12, 'activation_l0': 'tanh', 'n_units_l1': 109, 'activation_l1': 'relu', 'n_units_l2': 98, 'activation_l2': 'relu', 'optimizer': 'rmsprop', 'batch_size': 60, 'epochs': 22}. \u001b[0m\n"
     ]
    },
    {
     "name": "stdout",
     "output_type": "stream",
     "text": [
      "1/1 [==============================] - 0s 40ms/step\n"
     ]
    },
    {
     "name": "stderr",
     "output_type": "stream",
     "text": [
      "\u001b[32m[I 2024-09-06 08:57:29,100]\u001b[0m Trial 2 finished with values: [0.02777777777777779, 0.03703703703703709] and parameters: {'n_layers': 1, 'n_units_l0': 99, 'activation_l0': 'relu', 'optimizer': 'rmsprop', 'batch_size': 45, 'epochs': 43}. \u001b[0m\n"
     ]
    },
    {
     "name": "stdout",
     "output_type": "stream",
     "text": [
      "1/1 [==============================] - 0s 40ms/step\n"
     ]
    },
    {
     "name": "stderr",
     "output_type": "stream",
     "text": [
      "\u001b[32m[I 2024-09-06 08:57:29,885]\u001b[0m Trial 3 finished with values: [0.09722222222222221, 0.10437710437710435] and parameters: {'n_layers': 1, 'n_units_l0': 40, 'activation_l0': 'relu', 'optimizer': 'adam', 'batch_size': 51, 'epochs': 50}. \u001b[0m\n"
     ]
    },
    {
     "name": "stdout",
     "output_type": "stream",
     "text": [
      "1/1 [==============================] - 0s 45ms/step\n"
     ]
    },
    {
     "name": "stderr",
     "output_type": "stream",
     "text": [
      "\u001b[32m[I 2024-09-06 08:57:30,558]\u001b[0m Trial 4 finished with values: [0.0, 0.0] and parameters: {'n_layers': 1, 'n_units_l0': 8, 'activation_l0': 'tanh', 'optimizer': 'adam', 'batch_size': 49, 'epochs': 35}. \u001b[0m\n"
     ]
    },
    {
     "name": "stdout",
     "output_type": "stream",
     "text": [
      "1/1 [==============================] - 0s 74ms/step\n"
     ]
    },
    {
     "name": "stderr",
     "output_type": "stream",
     "text": [
      "\u001b[32m[I 2024-09-06 08:57:32,290]\u001b[0m Trial 5 finished with values: [0.02777777777777779, 0.03703703703703709] and parameters: {'n_layers': 3, 'n_units_l0': 34, 'activation_l0': 'relu', 'n_units_l1': 117, 'activation_l1': 'tanh', 'n_units_l2': 54, 'activation_l2': 'relu', 'optimizer': 'rmsprop', 'batch_size': 16, 'epochs': 37}. \u001b[0m\n"
     ]
    },
    {
     "name": "stdout",
     "output_type": "stream",
     "text": [
      "1/1 [==============================] - 0s 46ms/step\n"
     ]
    },
    {
     "name": "stderr",
     "output_type": "stream",
     "text": [
      "h:\\Anaconda\\envs\\IA\\lib\\site-packages\\sklearn\\metrics\\_classification.py:1344: UndefinedMetricWarning:\n",
      "\n",
      "Precision is ill-defined and being set to 0.0 in labels with no predicted samples. Use `zero_division` parameter to control this behavior.\n",
      "\n",
      "\u001b[32m[I 2024-09-06 08:57:32,816]\u001b[0m Trial 6 finished with values: [0.4833333333333333, 0.33333333333333337] and parameters: {'n_layers': 2, 'n_units_l0': 79, 'activation_l0': 'relu', 'n_units_l1': 125, 'activation_l1': 'relu', 'optimizer': 'sgd', 'batch_size': 61, 'epochs': 14}. \u001b[0m\n"
     ]
    },
    {
     "name": "stdout",
     "output_type": "stream",
     "text": [
      "1/1 [==============================] - 0s 91ms/step\n"
     ]
    },
    {
     "name": "stderr",
     "output_type": "stream",
     "text": [
      "\u001b[32m[I 2024-09-06 08:57:33,553]\u001b[0m Trial 7 finished with values: [0.08333333333333337, 0.09090909090909083] and parameters: {'n_layers': 2, 'n_units_l0': 116, 'activation_l0': 'relu', 'n_units_l1': 20, 'activation_l1': 'tanh', 'optimizer': 'sgd', 'batch_size': 28, 'epochs': 24}. \u001b[0m\n"
     ]
    },
    {
     "name": "stdout",
     "output_type": "stream",
     "text": [
      "1/1 [==============================] - 0s 40ms/step\n"
     ]
    },
    {
     "name": "stderr",
     "output_type": "stream",
     "text": [
      "\u001b[32m[I 2024-09-06 08:57:34,317]\u001b[0m Trial 8 finished with values: [0.0888888888888889, 0.14814814814814825] and parameters: {'n_layers': 1, 'n_units_l0': 70, 'activation_l0': 'relu', 'optimizer': 'adam', 'batch_size': 54, 'epochs': 46}. \u001b[0m\n"
     ]
    },
    {
     "name": "stdout",
     "output_type": "stream",
     "text": [
      "1/1 [==============================] - 0s 50ms/step\n"
     ]
    },
    {
     "name": "stderr",
     "output_type": "stream",
     "text": [
      "\u001b[32m[I 2024-09-06 08:57:35,711]\u001b[0m Trial 9 finished with values: [0.0, 0.0] and parameters: {'n_layers': 3, 'n_units_l0': 93, 'activation_l0': 'tanh', 'n_units_l1': 96, 'activation_l1': 'relu', 'n_units_l2': 101, 'activation_l2': 'relu', 'optimizer': 'rmsprop', 'batch_size': 24, 'epochs': 36}. \u001b[0m\n"
     ]
    },
    {
     "name": "stdout",
     "output_type": "stream",
     "text": [
      "1/1 [==============================] - 0s 63ms/step\n"
     ]
    },
    {
     "name": "stderr",
     "output_type": "stream",
     "text": [
      "\u001b[32m[I 2024-09-06 08:57:36,721]\u001b[0m Trial 10 finished with values: [0.0, 0.0] and parameters: {'n_layers': 2, 'n_units_l0': 19, 'activation_l0': 'tanh', 'n_units_l1': 38, 'activation_l1': 'relu', 'optimizer': 'rmsprop', 'batch_size': 41, 'epochs': 29}. \u001b[0m\n"
     ]
    },
    {
     "name": "stdout",
     "output_type": "stream",
     "text": [
      "1/1 [==============================] - 0s 51ms/step\n"
     ]
    },
    {
     "name": "stderr",
     "output_type": "stream",
     "text": [
      "\u001b[32m[I 2024-09-06 08:57:38,258]\u001b[0m Trial 11 finished with values: [0.0, 0.0] and parameters: {'n_layers': 3, 'n_units_l0': 19, 'activation_l0': 'relu', 'n_units_l1': 29, 'activation_l1': 'tanh', 'n_units_l2': 56, 'activation_l2': 'tanh', 'optimizer': 'rmsprop', 'batch_size': 38, 'epochs': 48}. \u001b[0m\n"
     ]
    },
    {
     "name": "stdout",
     "output_type": "stream",
     "text": [
      "1/1 [==============================] - 0s 46ms/step\n"
     ]
    },
    {
     "name": "stderr",
     "output_type": "stream",
     "text": [
      "\u001b[32m[I 2024-09-06 08:57:38,971]\u001b[0m Trial 12 finished with values: [0.0, 0.0] and parameters: {'n_layers': 2, 'n_units_l0': 105, 'activation_l0': 'relu', 'n_units_l1': 64, 'activation_l1': 'relu', 'optimizer': 'adam', 'batch_size': 60, 'epochs': 29}. \u001b[0m\n"
     ]
    },
    {
     "name": "stdout",
     "output_type": "stream",
     "text": [
      "1/1 [==============================] - 0s 52ms/step\n"
     ]
    },
    {
     "name": "stderr",
     "output_type": "stream",
     "text": [
      "\u001b[32m[I 2024-09-06 08:57:39,945]\u001b[0m Trial 13 finished with values: [0.02777777777777779, 0.03703703703703709] and parameters: {'n_layers': 3, 'n_units_l0': 109, 'activation_l0': 'relu', 'n_units_l1': 73, 'activation_l1': 'tanh', 'n_units_l2': 79, 'activation_l2': 'relu', 'optimizer': 'sgd', 'batch_size': 27, 'epochs': 37}. \u001b[0m\n"
     ]
    },
    {
     "name": "stdout",
     "output_type": "stream",
     "text": [
      "1/1 [==============================] - 0s 85ms/step\n"
     ]
    },
    {
     "name": "stderr",
     "output_type": "stream",
     "text": [
      "\u001b[32m[I 2024-09-06 08:57:41,025]\u001b[0m Trial 14 finished with values: [0.10256410256410253, 0.12121212121212122] and parameters: {'n_layers': 2, 'n_units_l0': 17, 'activation_l0': 'tanh', 'n_units_l1': 115, 'activation_l1': 'tanh', 'optimizer': 'sgd', 'batch_size': 29, 'epochs': 47}. \u001b[0m\n"
     ]
    },
    {
     "name": "stdout",
     "output_type": "stream",
     "text": [
      "1/1 [==============================] - 0s 41ms/step\n"
     ]
    },
    {
     "name": "stderr",
     "output_type": "stream",
     "text": [
      "\u001b[32m[I 2024-09-06 08:57:41,842]\u001b[0m Trial 15 finished with values: [0.10256410256410253, 0.12121212121212122] and parameters: {'n_layers': 1, 'n_units_l0': 105, 'activation_l0': 'tanh', 'optimizer': 'sgd', 'batch_size': 19, 'epochs': 24}. \u001b[0m\n"
     ]
    },
    {
     "name": "stdout",
     "output_type": "stream",
     "text": [
      "1/1 [==============================] - 0s 45ms/step\n"
     ]
    },
    {
     "name": "stderr",
     "output_type": "stream",
     "text": [
      "\u001b[32m[I 2024-09-06 08:57:42,765]\u001b[0m Trial 16 finished with values: [0.0, 0.0] and parameters: {'n_layers': 2, 'n_units_l0': 97, 'activation_l0': 'relu', 'n_units_l1': 25, 'activation_l1': 'tanh', 'optimizer': 'rmsprop', 'batch_size': 61, 'epochs': 37}. \u001b[0m\n"
     ]
    },
    {
     "name": "stdout",
     "output_type": "stream",
     "text": [
      "1/1 [==============================] - 0s 65ms/step\n"
     ]
    },
    {
     "name": "stderr",
     "output_type": "stream",
     "text": [
      "\u001b[32m[I 2024-09-06 08:57:43,850]\u001b[0m Trial 17 finished with values: [0.02777777777777779, 0.03703703703703709] and parameters: {'n_layers': 3, 'n_units_l0': 46, 'activation_l0': 'tanh', 'n_units_l1': 44, 'activation_l1': 'tanh', 'n_units_l2': 87, 'activation_l2': 'tanh', 'optimizer': 'rmsprop', 'batch_size': 64, 'epochs': 28}. \u001b[0m\n"
     ]
    },
    {
     "name": "stdout",
     "output_type": "stream",
     "text": [
      "1/1 [==============================] - 0s 71ms/step\n"
     ]
    },
    {
     "name": "stderr",
     "output_type": "stream",
     "text": [
      "\u001b[32m[I 2024-09-06 08:57:44,931]\u001b[0m Trial 18 finished with values: [0.0, 0.0] and parameters: {'n_layers': 3, 'n_units_l0': 53, 'activation_l0': 'relu', 'n_units_l1': 76, 'activation_l1': 'tanh', 'n_units_l2': 17, 'activation_l2': 'relu', 'optimizer': 'adam', 'batch_size': 33, 'epochs': 43}. \u001b[0m\n"
     ]
    },
    {
     "name": "stdout",
     "output_type": "stream",
     "text": [
      "1/1 [==============================] - 0s 63ms/step\n"
     ]
    },
    {
     "name": "stderr",
     "output_type": "stream",
     "text": [
      "\u001b[32m[I 2024-09-06 08:57:46,179]\u001b[0m Trial 19 finished with values: [0.0, 0.0] and parameters: {'n_layers': 3, 'n_units_l0': 49, 'activation_l0': 'tanh', 'n_units_l1': 55, 'activation_l1': 'relu', 'n_units_l2': 98, 'activation_l2': 'tanh', 'optimizer': 'rmsprop', 'batch_size': 36, 'epochs': 25}. \u001b[0m\n"
     ]
    },
    {
     "name": "stdout",
     "output_type": "stream",
     "text": [
      "1/1 [==============================] - 0s 49ms/step\n"
     ]
    },
    {
     "name": "stderr",
     "output_type": "stream",
     "text": [
      "h:\\Anaconda\\envs\\IA\\lib\\site-packages\\sklearn\\metrics\\_classification.py:1344: UndefinedMetricWarning:\n",
      "\n",
      "Precision is ill-defined and being set to 0.0 in labels with no predicted samples. Use `zero_division` parameter to control this behavior.\n",
      "\n",
      "\u001b[32m[I 2024-09-06 08:57:47,130]\u001b[0m Trial 20 finished with values: [0.5166666666666666, 0.33333333333333337] and parameters: {'n_layers': 3, 'n_units_l0': 15, 'activation_l0': 'tanh', 'n_units_l1': 20, 'activation_l1': 'relu', 'n_units_l2': 95, 'activation_l2': 'tanh', 'optimizer': 'sgd', 'batch_size': 43, 'epochs': 22}. \u001b[0m\n"
     ]
    },
    {
     "name": "stdout",
     "output_type": "stream",
     "text": [
      "1/1 [==============================] - 0s 43ms/step\n"
     ]
    },
    {
     "name": "stderr",
     "output_type": "stream",
     "text": [
      "\u001b[32m[I 2024-09-06 08:57:47,729]\u001b[0m Trial 21 finished with values: [0.0, 0.0] and parameters: {'n_layers': 2, 'n_units_l0': 106, 'activation_l0': 'tanh', 'n_units_l1': 119, 'activation_l1': 'tanh', 'optimizer': 'adam', 'batch_size': 25, 'epochs': 12}. \u001b[0m\n"
     ]
    },
    {
     "name": "stdout",
     "output_type": "stream",
     "text": [
      "1/1 [==============================] - 0s 65ms/step\n"
     ]
    },
    {
     "name": "stderr",
     "output_type": "stream",
     "text": [
      "\u001b[32m[I 2024-09-06 08:57:48,398]\u001b[0m Trial 22 finished with values: [0.12794612794612803, 0.12794612794612803] and parameters: {'n_layers': 3, 'n_units_l0': 6, 'activation_l0': 'tanh', 'n_units_l1': 99, 'activation_l1': 'relu', 'n_units_l2': 111, 'activation_l2': 'relu', 'optimizer': 'sgd', 'batch_size': 55, 'epochs': 26}. \u001b[0m\n"
     ]
    },
    {
     "name": "stdout",
     "output_type": "stream",
     "text": [
      "1/1 [==============================] - 0s 39ms/step\n"
     ]
    },
    {
     "name": "stderr",
     "output_type": "stream",
     "text": [
      "\u001b[32m[I 2024-09-06 08:57:48,999]\u001b[0m Trial 23 finished with values: [0.0888888888888889, 0.14814814814814825] and parameters: {'n_layers': 1, 'n_units_l0': 52, 'activation_l0': 'relu', 'optimizer': 'adam', 'batch_size': 35, 'epochs': 21}. \u001b[0m\n"
     ]
    },
    {
     "name": "stdout",
     "output_type": "stream",
     "text": [
      "1/1 [==============================] - 0s 45ms/step\n"
     ]
    },
    {
     "name": "stderr",
     "output_type": "stream",
     "text": [
      "h:\\Anaconda\\envs\\IA\\lib\\site-packages\\sklearn\\metrics\\_classification.py:1344: UndefinedMetricWarning:\n",
      "\n",
      "Precision is ill-defined and being set to 0.0 in labels with no predicted samples. Use `zero_division` parameter to control this behavior.\n",
      "\n",
      "\u001b[32m[I 2024-09-06 08:57:49,746]\u001b[0m Trial 24 finished with values: [0.4833333333333333, 0.33333333333333337] and parameters: {'n_layers': 2, 'n_units_l0': 19, 'activation_l0': 'relu', 'n_units_l1': 7, 'activation_l1': 'relu', 'optimizer': 'sgd', 'batch_size': 58, 'epochs': 45}. \u001b[0m\n"
     ]
    },
    {
     "name": "stdout",
     "output_type": "stream",
     "text": [
      "1/1 [==============================] - 0s 51ms/step\n"
     ]
    },
    {
     "name": "stderr",
     "output_type": "stream",
     "text": [
      "\u001b[32m[I 2024-09-06 08:57:50,312]\u001b[0m Trial 25 finished with values: [0.12962962962962965, 0.2592592592592592] and parameters: {'n_layers': 1, 'n_units_l0': 46, 'activation_l0': 'tanh', 'optimizer': 'adam', 'batch_size': 56, 'epochs': 20}. \u001b[0m\n"
     ]
    },
    {
     "name": "stdout",
     "output_type": "stream",
     "text": [
      "1/1 [==============================] - 0s 66ms/step\n"
     ]
    },
    {
     "name": "stderr",
     "output_type": "stream",
     "text": [
      "\u001b[32m[I 2024-09-06 08:57:51,372]\u001b[0m Trial 26 finished with values: [0.0, 0.0] and parameters: {'n_layers': 3, 'n_units_l0': 126, 'activation_l0': 'tanh', 'n_units_l1': 112, 'activation_l1': 'tanh', 'n_units_l2': 127, 'activation_l2': 'tanh', 'optimizer': 'adam', 'batch_size': 29, 'epochs': 40}. \u001b[0m\n"
     ]
    },
    {
     "name": "stdout",
     "output_type": "stream",
     "text": [
      "1/1 [==============================] - 0s 51ms/step\n"
     ]
    },
    {
     "name": "stderr",
     "output_type": "stream",
     "text": [
      "\u001b[32m[I 2024-09-06 08:57:52,382]\u001b[0m Trial 27 finished with values: [0.02777777777777779, 0.03703703703703709] and parameters: {'n_layers': 3, 'n_units_l0': 12, 'activation_l0': 'tanh', 'n_units_l1': 17, 'activation_l1': 'tanh', 'n_units_l2': 27, 'activation_l2': 'tanh', 'optimizer': 'rmsprop', 'batch_size': 50, 'epochs': 33}. \u001b[0m\n"
     ]
    },
    {
     "name": "stdout",
     "output_type": "stream",
     "text": [
      "1/1 [==============================] - 0s 52ms/step\n"
     ]
    },
    {
     "name": "stderr",
     "output_type": "stream",
     "text": [
      "\u001b[32m[I 2024-09-06 08:57:53,375]\u001b[0m Trial 28 finished with values: [0.033333333333333326, 0.030303030303030276] and parameters: {'n_layers': 3, 'n_units_l0': 59, 'activation_l0': 'tanh', 'n_units_l1': 116, 'activation_l1': 'relu', 'n_units_l2': 60, 'activation_l2': 'relu', 'optimizer': 'rmsprop', 'batch_size': 21, 'epochs': 16}. \u001b[0m\n"
     ]
    },
    {
     "name": "stdout",
     "output_type": "stream",
     "text": [
      "1/1 [==============================] - 0s 44ms/step\n"
     ]
    },
    {
     "name": "stderr",
     "output_type": "stream",
     "text": [
      "\u001b[32m[I 2024-09-06 08:57:54,135]\u001b[0m Trial 29 finished with values: [0.0, 0.0] and parameters: {'n_layers': 2, 'n_units_l0': 89, 'activation_l0': 'relu', 'n_units_l1': 59, 'activation_l1': 'tanh', 'optimizer': 'adam', 'batch_size': 46, 'epochs': 38}. \u001b[0m\n"
     ]
    },
    {
     "name": "stdout",
     "output_type": "stream",
     "text": [
      "1/1 [==============================] - 0s 45ms/step\n"
     ]
    },
    {
     "name": "stderr",
     "output_type": "stream",
     "text": [
      "\u001b[32m[I 2024-09-06 08:57:55,028]\u001b[0m Trial 30 finished with values: [0.06060606060606055, 0.06060606060606055] and parameters: {'n_layers': 2, 'n_units_l0': 88, 'activation_l0': 'relu', 'n_units_l1': 82, 'activation_l1': 'relu', 'optimizer': 'rmsprop', 'batch_size': 43, 'epochs': 29}. \u001b[0m\n"
     ]
    },
    {
     "name": "stdout",
     "output_type": "stream",
     "text": [
      "1/1 [==============================] - 0s 54ms/step\n"
     ]
    },
    {
     "name": "stderr",
     "output_type": "stream",
     "text": [
      "\u001b[32m[I 2024-09-06 08:57:55,924]\u001b[0m Trial 31 finished with values: [0.08333333333333337, 0.09090909090909083] and parameters: {'n_layers': 1, 'n_units_l0': 10, 'activation_l0': 'relu', 'optimizer': 'adam', 'batch_size': 54, 'epochs': 47}. \u001b[0m\n"
     ]
    },
    {
     "name": "stdout",
     "output_type": "stream",
     "text": [
      "1/1 [==============================] - 0s 41ms/step\n"
     ]
    },
    {
     "name": "stderr",
     "output_type": "stream",
     "text": [
      "\u001b[32m[I 2024-09-06 08:57:56,723]\u001b[0m Trial 32 finished with values: [0.05128205128205121, 0.07407407407407407] and parameters: {'n_layers': 1, 'n_units_l0': 58, 'activation_l0': 'relu', 'optimizer': 'rmsprop', 'batch_size': 25, 'epochs': 20}. \u001b[0m\n"
     ]
    },
    {
     "name": "stdout",
     "output_type": "stream",
     "text": [
      "1/1 [==============================] - 0s 52ms/step\n"
     ]
    },
    {
     "name": "stderr",
     "output_type": "stream",
     "text": [
      "\u001b[32m[I 2024-09-06 08:57:57,447]\u001b[0m Trial 33 finished with values: [0.11904761904761907, 0.1515151515151515] and parameters: {'n_layers': 3, 'n_units_l0': 12, 'activation_l0': 'relu', 'n_units_l1': 46, 'activation_l1': 'relu', 'n_units_l2': 114, 'activation_l2': 'relu', 'optimizer': 'sgd', 'batch_size': 30, 'epochs': 30}. \u001b[0m\n"
     ]
    },
    {
     "name": "stdout",
     "output_type": "stream",
     "text": [
      "1/1 [==============================] - 0s 43ms/step\n"
     ]
    },
    {
     "name": "stderr",
     "output_type": "stream",
     "text": [
      "h:\\Anaconda\\envs\\IA\\lib\\site-packages\\sklearn\\metrics\\_classification.py:1344: UndefinedMetricWarning:\n",
      "\n",
      "Precision is ill-defined and being set to 0.0 in labels with no predicted samples. Use `zero_division` parameter to control this behavior.\n",
      "\n",
      "\u001b[32m[I 2024-09-06 08:57:58,029]\u001b[0m Trial 34 finished with values: [0.4833333333333333, 0.33333333333333337] and parameters: {'n_layers': 1, 'n_units_l0': 107, 'activation_l0': 'relu', 'optimizer': 'sgd', 'batch_size': 37, 'epochs': 21}. \u001b[0m\n"
     ]
    },
    {
     "name": "stdout",
     "output_type": "stream",
     "text": [
      "1/1 [==============================] - 0s 51ms/step\n"
     ]
    },
    {
     "name": "stderr",
     "output_type": "stream",
     "text": [
      "\u001b[32m[I 2024-09-06 08:57:58,699]\u001b[0m Trial 35 finished with values: [0.0888888888888889, 0.14814814814814825] and parameters: {'n_layers': 1, 'n_units_l0': 122, 'activation_l0': 'tanh', 'optimizer': 'adam', 'batch_size': 57, 'epochs': 28}. \u001b[0m\n"
     ]
    },
    {
     "name": "stdout",
     "output_type": "stream",
     "text": [
      "1/1 [==============================] - 0s 46ms/step\n"
     ]
    },
    {
     "name": "stderr",
     "output_type": "stream",
     "text": [
      "\u001b[32m[I 2024-09-06 08:57:59,673]\u001b[0m Trial 36 finished with values: [0.02777777777777779, 0.03703703703703709] and parameters: {'n_layers': 2, 'n_units_l0': 44, 'activation_l0': 'relu', 'n_units_l1': 89, 'activation_l1': 'relu', 'optimizer': 'adam', 'batch_size': 37, 'epochs': 38}. \u001b[0m\n"
     ]
    },
    {
     "name": "stdout",
     "output_type": "stream",
     "text": [
      "1/1 [==============================] - 0s 41ms/step\n"
     ]
    },
    {
     "name": "stderr",
     "output_type": "stream",
     "text": [
      "\u001b[32m[I 2024-09-06 08:58:00,234]\u001b[0m Trial 37 finished with values: [0.05128205128205121, 0.07407407407407407] and parameters: {'n_layers': 1, 'n_units_l0': 116, 'activation_l0': 'tanh', 'optimizer': 'sgd', 'batch_size': 33, 'epochs': 20}. \u001b[0m\n"
     ]
    },
    {
     "name": "stdout",
     "output_type": "stream",
     "text": [
      "1/1 [==============================] - 0s 53ms/step\n"
     ]
    },
    {
     "name": "stderr",
     "output_type": "stream",
     "text": [
      "\u001b[32m[I 2024-09-06 08:58:00,909]\u001b[0m Trial 38 finished with values: [0.02777777777777779, 0.03703703703703709] and parameters: {'n_layers': 3, 'n_units_l0': 73, 'activation_l0': 'tanh', 'n_units_l1': 64, 'activation_l1': 'relu', 'n_units_l2': 29, 'activation_l2': 'relu', 'optimizer': 'sgd', 'batch_size': 61, 'epochs': 32}. \u001b[0m\n"
     ]
    },
    {
     "name": "stdout",
     "output_type": "stream",
     "text": [
      "1/1 [==============================] - 0s 85ms/step\n"
     ]
    },
    {
     "name": "stderr",
     "output_type": "stream",
     "text": [
      "\u001b[32m[I 2024-09-06 08:58:01,625]\u001b[0m Trial 39 finished with values: [0.0888888888888889, 0.14814814814814825] and parameters: {'n_layers': 2, 'n_units_l0': 124, 'activation_l0': 'tanh', 'n_units_l1': 105, 'activation_l1': 'relu', 'optimizer': 'sgd', 'batch_size': 41, 'epochs': 30}. \u001b[0m\n"
     ]
    },
    {
     "name": "stdout",
     "output_type": "stream",
     "text": [
      "1/1 [==============================] - 0s 66ms/step\n"
     ]
    },
    {
     "name": "stderr",
     "output_type": "stream",
     "text": [
      "\u001b[32m[I 2024-09-06 08:58:02,671]\u001b[0m Trial 40 finished with values: [0.08333333333333337, 0.09090909090909083] and parameters: {'n_layers': 3, 'n_units_l0': 55, 'activation_l0': 'relu', 'n_units_l1': 82, 'activation_l1': 'tanh', 'n_units_l2': 106, 'activation_l2': 'tanh', 'optimizer': 'sgd', 'batch_size': 37, 'epochs': 42}. \u001b[0m\n"
     ]
    },
    {
     "name": "stdout",
     "output_type": "stream",
     "text": [
      "1/1 [==============================] - 0s 62ms/step\n"
     ]
    },
    {
     "name": "stderr",
     "output_type": "stream",
     "text": [
      "\u001b[32m[I 2024-09-06 08:58:03,496]\u001b[0m Trial 41 finished with values: [0.07142857142857151, 0.11111111111111116] and parameters: {'n_layers': 2, 'n_units_l0': 37, 'activation_l0': 'tanh', 'n_units_l1': 101, 'activation_l1': 'relu', 'optimizer': 'adam', 'batch_size': 54, 'epochs': 24}. \u001b[0m\n"
     ]
    },
    {
     "name": "stdout",
     "output_type": "stream",
     "text": [
      "1/1 [==============================] - 0s 40ms/step\n"
     ]
    },
    {
     "name": "stderr",
     "output_type": "stream",
     "text": [
      "\u001b[32m[I 2024-09-06 08:58:05,206]\u001b[0m Trial 42 finished with values: [0.0, 0.0] and parameters: {'n_layers': 1, 'n_units_l0': 48, 'activation_l0': 'tanh', 'optimizer': 'adam', 'batch_size': 17, 'epochs': 49}. \u001b[0m\n"
     ]
    },
    {
     "name": "stdout",
     "output_type": "stream",
     "text": [
      "1/1 [==============================] - 0s 50ms/step\n"
     ]
    },
    {
     "name": "stderr",
     "output_type": "stream",
     "text": [
      "\u001b[32m[I 2024-09-06 08:58:06,065]\u001b[0m Trial 43 finished with values: [0.09722222222222221, 0.10437710437710435] and parameters: {'n_layers': 3, 'n_units_l0': 5, 'activation_l0': 'relu', 'n_units_l1': 118, 'activation_l1': 'tanh', 'n_units_l2': 10, 'activation_l2': 'tanh', 'optimizer': 'sgd', 'batch_size': 29, 'epochs': 31}. \u001b[0m\n"
     ]
    },
    {
     "name": "stdout",
     "output_type": "stream",
     "text": [
      "1/1 [==============================] - 0s 42ms/step\n"
     ]
    },
    {
     "name": "stderr",
     "output_type": "stream",
     "text": [
      "\u001b[32m[I 2024-09-06 08:58:06,845]\u001b[0m Trial 44 finished with values: [0.3790849673202614, 0.35690235690235683] and parameters: {'n_layers': 1, 'n_units_l0': 20, 'activation_l0': 'relu', 'optimizer': 'rmsprop', 'batch_size': 39, 'epochs': 25}. \u001b[0m\n"
     ]
    },
    {
     "name": "stdout",
     "output_type": "stream",
     "text": [
      "1/1 [==============================] - 0s 51ms/step\n"
     ]
    },
    {
     "name": "stderr",
     "output_type": "stream",
     "text": [
      "\u001b[32m[I 2024-09-06 08:58:07,552]\u001b[0m Trial 45 finished with values: [0.07142857142857151, 0.11111111111111116] and parameters: {'n_layers': 3, 'n_units_l0': 24, 'activation_l0': 'relu', 'n_units_l1': 73, 'activation_l1': 'tanh', 'n_units_l2': 35, 'activation_l2': 'tanh', 'optimizer': 'sgd', 'batch_size': 55, 'epochs': 28}. \u001b[0m\n"
     ]
    },
    {
     "name": "stdout",
     "output_type": "stream",
     "text": [
      "1/1 [==============================] - 0s 41ms/step\n"
     ]
    },
    {
     "name": "stderr",
     "output_type": "stream",
     "text": [
      "\u001b[32m[I 2024-09-06 08:58:08,351]\u001b[0m Trial 46 finished with values: [0.05128205128205121, 0.07407407407407407] and parameters: {'n_layers': 1, 'n_units_l0': 36, 'activation_l0': 'tanh', 'optimizer': 'sgd', 'batch_size': 28, 'epochs': 37}. \u001b[0m\n"
     ]
    },
    {
     "name": "stdout",
     "output_type": "stream",
     "text": [
      "1/1 [==============================] - 0s 41ms/step\n"
     ]
    },
    {
     "name": "stderr",
     "output_type": "stream",
     "text": [
      "\u001b[32m[I 2024-09-06 08:58:09,006]\u001b[0m Trial 47 finished with values: [0.0888888888888889, 0.14814814814814825] and parameters: {'n_layers': 1, 'n_units_l0': 84, 'activation_l0': 'tanh', 'optimizer': 'sgd', 'batch_size': 52, 'epochs': 38}. \u001b[0m\n"
     ]
    },
    {
     "name": "stdout",
     "output_type": "stream",
     "text": [
      "1/1 [==============================] - 0s 54ms/step\n"
     ]
    },
    {
     "name": "stderr",
     "output_type": "stream",
     "text": [
      "\u001b[32m[I 2024-09-06 08:58:09,706]\u001b[0m Trial 48 finished with values: [0.11764705882352944, 0.22222222222222232] and parameters: {'n_layers': 3, 'n_units_l0': 73, 'activation_l0': 'tanh', 'n_units_l1': 25, 'activation_l1': 'relu', 'n_units_l2': 82, 'activation_l2': 'tanh', 'optimizer': 'sgd', 'batch_size': 16, 'epochs': 12}. \u001b[0m\n"
     ]
    },
    {
     "name": "stdout",
     "output_type": "stream",
     "text": [
      "1/1 [==============================] - 0s 52ms/step\n"
     ]
    },
    {
     "name": "stderr",
     "output_type": "stream",
     "text": [
      "\u001b[32m[I 2024-09-06 08:58:10,644]\u001b[0m Trial 49 finished with values: [0.02777777777777779, 0.03703703703703709] and parameters: {'n_layers': 3, 'n_units_l0': 96, 'activation_l0': 'tanh', 'n_units_l1': 80, 'activation_l1': 'relu', 'n_units_l2': 50, 'activation_l2': 'relu', 'optimizer': 'sgd', 'batch_size': 18, 'epochs': 21}. \u001b[0m\n"
     ]
    }
   ],
   "source": [
    "    \n",
    "# Función objetivo que entrena y evalúa el modelo usando Optuna\n",
    "def objective(trial):\n",
    "    model = create_model(trial)\n",
    "    \n",
    "    # Hiperparámetros adicionales\n",
    "    batch_size = trial.suggest_int('batch_size', 16, 64)\n",
    "    epochs = trial.suggest_int('epochs', 10, 50)\n",
    "\n",
    "    # Entrenar el modelo\n",
    "    model.fit(X_train, y_train, batch_size=batch_size, epochs=epochs, verbose=0)\n",
    "\n",
    "    # Predecir y calcular precisión y recall\n",
    "    y_pred = model.predict(X_test)\n",
    "    y_pred_classes = tf.argmax(y_pred, axis=1).numpy()\n",
    "    y_test_classes = tf.argmax(y_test, axis=1).numpy()\n",
    "\n",
    "    precision = precision_score(y_test_classes, y_pred_classes, average='macro')\n",
    "    recall = recall_score(y_test_classes, y_pred_classes, average='macro')\n",
    "\n",
    "    # Minimizar (1 - precision) y (1 - recall) para maximizar ambas\n",
    "    trial.set_user_attr(\"precision\", precision)\n",
    "    trial.set_user_attr(\"recall\", recall)\n",
    "\n",
    "   # return (1 - precision) + (1 - recall)\n",
    "    return 1 - precision, 1 - recall\n",
    "\n",
    "# Optimización con Optuna (usando el método de dos objetivos)\n",
    "#study = optuna.create_study(direction='minimize')\n",
    "study = optuna.create_study(directions=['minimize', 'minimize'], study_name='Multi-Objective Optimization (Precision vs Recall)', sampler=optuna.samplers.NSGAIISampler())\n",
    "study.optimize(objective, n_trials=50)\n"
   ]
  },
  {
   "cell_type": "code",
   "execution_count": null,
   "metadata": {},
   "outputs": [],
   "source": []
  },
  {
   "cell_type": "code",
   "execution_count": 10,
   "metadata": {},
   "outputs": [
    {
     "name": "stdout",
     "output_type": "stream",
     "text": [
      "Number of trials on the Pareto front:  12\n",
      "Trial number: 4\n",
      "Precision: 1.0000, Recall: 1.0000\n",
      "Params: {'n_layers': 1, 'n_units_l0': 8, 'activation_l0': 'tanh', 'optimizer': 'adam', 'batch_size': 49, 'epochs': 35}\n",
      "Trial number: 9\n",
      "Precision: 1.0000, Recall: 1.0000\n",
      "Params: {'n_layers': 3, 'n_units_l0': 93, 'activation_l0': 'tanh', 'n_units_l1': 96, 'activation_l1': 'relu', 'n_units_l2': 101, 'activation_l2': 'relu', 'optimizer': 'rmsprop', 'batch_size': 24, 'epochs': 36}\n",
      "Trial number: 10\n",
      "Precision: 1.0000, Recall: 1.0000\n",
      "Params: {'n_layers': 2, 'n_units_l0': 19, 'activation_l0': 'tanh', 'n_units_l1': 38, 'activation_l1': 'relu', 'optimizer': 'rmsprop', 'batch_size': 41, 'epochs': 29}\n",
      "Trial number: 11\n",
      "Precision: 1.0000, Recall: 1.0000\n",
      "Params: {'n_layers': 3, 'n_units_l0': 19, 'activation_l0': 'relu', 'n_units_l1': 29, 'activation_l1': 'tanh', 'n_units_l2': 56, 'activation_l2': 'tanh', 'optimizer': 'rmsprop', 'batch_size': 38, 'epochs': 48}\n",
      "Trial number: 12\n",
      "Precision: 1.0000, Recall: 1.0000\n",
      "Params: {'n_layers': 2, 'n_units_l0': 105, 'activation_l0': 'relu', 'n_units_l1': 64, 'activation_l1': 'relu', 'optimizer': 'adam', 'batch_size': 60, 'epochs': 29}\n",
      "Trial number: 16\n",
      "Precision: 1.0000, Recall: 1.0000\n",
      "Params: {'n_layers': 2, 'n_units_l0': 97, 'activation_l0': 'relu', 'n_units_l1': 25, 'activation_l1': 'tanh', 'optimizer': 'rmsprop', 'batch_size': 61, 'epochs': 37}\n",
      "Trial number: 18\n",
      "Precision: 1.0000, Recall: 1.0000\n",
      "Params: {'n_layers': 3, 'n_units_l0': 53, 'activation_l0': 'relu', 'n_units_l1': 76, 'activation_l1': 'tanh', 'n_units_l2': 17, 'activation_l2': 'relu', 'optimizer': 'adam', 'batch_size': 33, 'epochs': 43}\n",
      "Trial number: 19\n",
      "Precision: 1.0000, Recall: 1.0000\n",
      "Params: {'n_layers': 3, 'n_units_l0': 49, 'activation_l0': 'tanh', 'n_units_l1': 55, 'activation_l1': 'relu', 'n_units_l2': 98, 'activation_l2': 'tanh', 'optimizer': 'rmsprop', 'batch_size': 36, 'epochs': 25}\n",
      "Trial number: 21\n",
      "Precision: 1.0000, Recall: 1.0000\n",
      "Params: {'n_layers': 2, 'n_units_l0': 106, 'activation_l0': 'tanh', 'n_units_l1': 119, 'activation_l1': 'tanh', 'optimizer': 'adam', 'batch_size': 25, 'epochs': 12}\n",
      "Trial number: 26\n",
      "Precision: 1.0000, Recall: 1.0000\n",
      "Params: {'n_layers': 3, 'n_units_l0': 126, 'activation_l0': 'tanh', 'n_units_l1': 112, 'activation_l1': 'tanh', 'n_units_l2': 127, 'activation_l2': 'tanh', 'optimizer': 'adam', 'batch_size': 29, 'epochs': 40}\n",
      "Trial number: 29\n",
      "Precision: 1.0000, Recall: 1.0000\n",
      "Params: {'n_layers': 2, 'n_units_l0': 89, 'activation_l0': 'relu', 'n_units_l1': 59, 'activation_l1': 'tanh', 'optimizer': 'adam', 'batch_size': 46, 'epochs': 38}\n",
      "Trial number: 42\n",
      "Precision: 1.0000, Recall: 1.0000\n",
      "Params: {'n_layers': 1, 'n_units_l0': 48, 'activation_l0': 'tanh', 'optimizer': 'adam', 'batch_size': 17, 'epochs': 49}\n"
     ]
    }
   ],
   "source": [
    "# Imprimir las mejores pruebas (frente de Pareto)\n",
    "trials = study.best_trials\n",
    "\n",
    "print(\"Number of trials on the Pareto front: \", len(trials))\n",
    "for trial in trials:\n",
    "    print(f\"Trial number: {trial.number}\")\n",
    "    print(f\"Precision: {1 - trial.values[0]:.4f}, Recall: {1 - trial.values[1]:.4f}\")\n",
    "    print(f\"Params: {trial.params}\")"
   ]
  },
  {
   "cell_type": "code",
   "execution_count": 15,
   "metadata": {},
   "outputs": [
    {
     "data": {
      "application/vnd.plotly.v1+json": {
       "config": {
        "plotlyServerURL": "https://plot.ly"
       },
       "data": [
        {
         "cliponaxis": false,
         "hovertemplate": [
          "activation_l0 (CategoricalDistribution): 0.025759767920108066<extra></extra>",
          "n_layers (IntDistribution): 0.0437262320335753<extra></extra>",
          "n_units_l0 (IntDistribution): 0.21004334047434461<extra></extra>",
          "batch_size (IntDistribution): 0.23577684640708235<extra></extra>",
          "epochs (IntDistribution): 0.2408952715476162<extra></extra>",
          "optimizer (CategoricalDistribution): 0.24379854161727357<extra></extra>"
         ],
         "marker": {
          "color": "rgb(66,146,198)"
         },
         "orientation": "h",
         "text": [
          "0.03",
          "0.04",
          "0.21",
          "0.24",
          "0.24",
          "0.24"
         ],
         "textposition": "outside",
         "type": "bar",
         "x": [
          0.025759767920108066,
          0.0437262320335753,
          0.21004334047434461,
          0.23577684640708235,
          0.2408952715476162,
          0.24379854161727357
         ],
         "y": [
          "activation_l0",
          "n_layers",
          "n_units_l0",
          "batch_size",
          "epochs",
          "optimizer"
         ]
        }
       ],
       "layout": {
        "showlegend": false,
        "template": {
         "data": {
          "bar": [
           {
            "error_x": {
             "color": "#2a3f5f"
            },
            "error_y": {
             "color": "#2a3f5f"
            },
            "marker": {
             "line": {
              "color": "#E5ECF6",
              "width": 0.5
             },
             "pattern": {
              "fillmode": "overlay",
              "size": 10,
              "solidity": 0.2
             }
            },
            "type": "bar"
           }
          ],
          "barpolar": [
           {
            "marker": {
             "line": {
              "color": "#E5ECF6",
              "width": 0.5
             },
             "pattern": {
              "fillmode": "overlay",
              "size": 10,
              "solidity": 0.2
             }
            },
            "type": "barpolar"
           }
          ],
          "carpet": [
           {
            "aaxis": {
             "endlinecolor": "#2a3f5f",
             "gridcolor": "white",
             "linecolor": "white",
             "minorgridcolor": "white",
             "startlinecolor": "#2a3f5f"
            },
            "baxis": {
             "endlinecolor": "#2a3f5f",
             "gridcolor": "white",
             "linecolor": "white",
             "minorgridcolor": "white",
             "startlinecolor": "#2a3f5f"
            },
            "type": "carpet"
           }
          ],
          "choropleth": [
           {
            "colorbar": {
             "outlinewidth": 0,
             "ticks": ""
            },
            "type": "choropleth"
           }
          ],
          "contour": [
           {
            "colorbar": {
             "outlinewidth": 0,
             "ticks": ""
            },
            "colorscale": [
             [
              0,
              "#0d0887"
             ],
             [
              0.1111111111111111,
              "#46039f"
             ],
             [
              0.2222222222222222,
              "#7201a8"
             ],
             [
              0.3333333333333333,
              "#9c179e"
             ],
             [
              0.4444444444444444,
              "#bd3786"
             ],
             [
              0.5555555555555556,
              "#d8576b"
             ],
             [
              0.6666666666666666,
              "#ed7953"
             ],
             [
              0.7777777777777778,
              "#fb9f3a"
             ],
             [
              0.8888888888888888,
              "#fdca26"
             ],
             [
              1,
              "#f0f921"
             ]
            ],
            "type": "contour"
           }
          ],
          "contourcarpet": [
           {
            "colorbar": {
             "outlinewidth": 0,
             "ticks": ""
            },
            "type": "contourcarpet"
           }
          ],
          "heatmap": [
           {
            "colorbar": {
             "outlinewidth": 0,
             "ticks": ""
            },
            "colorscale": [
             [
              0,
              "#0d0887"
             ],
             [
              0.1111111111111111,
              "#46039f"
             ],
             [
              0.2222222222222222,
              "#7201a8"
             ],
             [
              0.3333333333333333,
              "#9c179e"
             ],
             [
              0.4444444444444444,
              "#bd3786"
             ],
             [
              0.5555555555555556,
              "#d8576b"
             ],
             [
              0.6666666666666666,
              "#ed7953"
             ],
             [
              0.7777777777777778,
              "#fb9f3a"
             ],
             [
              0.8888888888888888,
              "#fdca26"
             ],
             [
              1,
              "#f0f921"
             ]
            ],
            "type": "heatmap"
           }
          ],
          "heatmapgl": [
           {
            "colorbar": {
             "outlinewidth": 0,
             "ticks": ""
            },
            "colorscale": [
             [
              0,
              "#0d0887"
             ],
             [
              0.1111111111111111,
              "#46039f"
             ],
             [
              0.2222222222222222,
              "#7201a8"
             ],
             [
              0.3333333333333333,
              "#9c179e"
             ],
             [
              0.4444444444444444,
              "#bd3786"
             ],
             [
              0.5555555555555556,
              "#d8576b"
             ],
             [
              0.6666666666666666,
              "#ed7953"
             ],
             [
              0.7777777777777778,
              "#fb9f3a"
             ],
             [
              0.8888888888888888,
              "#fdca26"
             ],
             [
              1,
              "#f0f921"
             ]
            ],
            "type": "heatmapgl"
           }
          ],
          "histogram": [
           {
            "marker": {
             "pattern": {
              "fillmode": "overlay",
              "size": 10,
              "solidity": 0.2
             }
            },
            "type": "histogram"
           }
          ],
          "histogram2d": [
           {
            "colorbar": {
             "outlinewidth": 0,
             "ticks": ""
            },
            "colorscale": [
             [
              0,
              "#0d0887"
             ],
             [
              0.1111111111111111,
              "#46039f"
             ],
             [
              0.2222222222222222,
              "#7201a8"
             ],
             [
              0.3333333333333333,
              "#9c179e"
             ],
             [
              0.4444444444444444,
              "#bd3786"
             ],
             [
              0.5555555555555556,
              "#d8576b"
             ],
             [
              0.6666666666666666,
              "#ed7953"
             ],
             [
              0.7777777777777778,
              "#fb9f3a"
             ],
             [
              0.8888888888888888,
              "#fdca26"
             ],
             [
              1,
              "#f0f921"
             ]
            ],
            "type": "histogram2d"
           }
          ],
          "histogram2dcontour": [
           {
            "colorbar": {
             "outlinewidth": 0,
             "ticks": ""
            },
            "colorscale": [
             [
              0,
              "#0d0887"
             ],
             [
              0.1111111111111111,
              "#46039f"
             ],
             [
              0.2222222222222222,
              "#7201a8"
             ],
             [
              0.3333333333333333,
              "#9c179e"
             ],
             [
              0.4444444444444444,
              "#bd3786"
             ],
             [
              0.5555555555555556,
              "#d8576b"
             ],
             [
              0.6666666666666666,
              "#ed7953"
             ],
             [
              0.7777777777777778,
              "#fb9f3a"
             ],
             [
              0.8888888888888888,
              "#fdca26"
             ],
             [
              1,
              "#f0f921"
             ]
            ],
            "type": "histogram2dcontour"
           }
          ],
          "mesh3d": [
           {
            "colorbar": {
             "outlinewidth": 0,
             "ticks": ""
            },
            "type": "mesh3d"
           }
          ],
          "parcoords": [
           {
            "line": {
             "colorbar": {
              "outlinewidth": 0,
              "ticks": ""
             }
            },
            "type": "parcoords"
           }
          ],
          "pie": [
           {
            "automargin": true,
            "type": "pie"
           }
          ],
          "scatter": [
           {
            "fillpattern": {
             "fillmode": "overlay",
             "size": 10,
             "solidity": 0.2
            },
            "type": "scatter"
           }
          ],
          "scatter3d": [
           {
            "line": {
             "colorbar": {
              "outlinewidth": 0,
              "ticks": ""
             }
            },
            "marker": {
             "colorbar": {
              "outlinewidth": 0,
              "ticks": ""
             }
            },
            "type": "scatter3d"
           }
          ],
          "scattercarpet": [
           {
            "marker": {
             "colorbar": {
              "outlinewidth": 0,
              "ticks": ""
             }
            },
            "type": "scattercarpet"
           }
          ],
          "scattergeo": [
           {
            "marker": {
             "colorbar": {
              "outlinewidth": 0,
              "ticks": ""
             }
            },
            "type": "scattergeo"
           }
          ],
          "scattergl": [
           {
            "marker": {
             "colorbar": {
              "outlinewidth": 0,
              "ticks": ""
             }
            },
            "type": "scattergl"
           }
          ],
          "scattermapbox": [
           {
            "marker": {
             "colorbar": {
              "outlinewidth": 0,
              "ticks": ""
             }
            },
            "type": "scattermapbox"
           }
          ],
          "scatterpolar": [
           {
            "marker": {
             "colorbar": {
              "outlinewidth": 0,
              "ticks": ""
             }
            },
            "type": "scatterpolar"
           }
          ],
          "scatterpolargl": [
           {
            "marker": {
             "colorbar": {
              "outlinewidth": 0,
              "ticks": ""
             }
            },
            "type": "scatterpolargl"
           }
          ],
          "scatterternary": [
           {
            "marker": {
             "colorbar": {
              "outlinewidth": 0,
              "ticks": ""
             }
            },
            "type": "scatterternary"
           }
          ],
          "surface": [
           {
            "colorbar": {
             "outlinewidth": 0,
             "ticks": ""
            },
            "colorscale": [
             [
              0,
              "#0d0887"
             ],
             [
              0.1111111111111111,
              "#46039f"
             ],
             [
              0.2222222222222222,
              "#7201a8"
             ],
             [
              0.3333333333333333,
              "#9c179e"
             ],
             [
              0.4444444444444444,
              "#bd3786"
             ],
             [
              0.5555555555555556,
              "#d8576b"
             ],
             [
              0.6666666666666666,
              "#ed7953"
             ],
             [
              0.7777777777777778,
              "#fb9f3a"
             ],
             [
              0.8888888888888888,
              "#fdca26"
             ],
             [
              1,
              "#f0f921"
             ]
            ],
            "type": "surface"
           }
          ],
          "table": [
           {
            "cells": {
             "fill": {
              "color": "#EBF0F8"
             },
             "line": {
              "color": "white"
             }
            },
            "header": {
             "fill": {
              "color": "#C8D4E3"
             },
             "line": {
              "color": "white"
             }
            },
            "type": "table"
           }
          ]
         },
         "layout": {
          "annotationdefaults": {
           "arrowcolor": "#2a3f5f",
           "arrowhead": 0,
           "arrowwidth": 1
          },
          "autotypenumbers": "strict",
          "coloraxis": {
           "colorbar": {
            "outlinewidth": 0,
            "ticks": ""
           }
          },
          "colorscale": {
           "diverging": [
            [
             0,
             "#8e0152"
            ],
            [
             0.1,
             "#c51b7d"
            ],
            [
             0.2,
             "#de77ae"
            ],
            [
             0.3,
             "#f1b6da"
            ],
            [
             0.4,
             "#fde0ef"
            ],
            [
             0.5,
             "#f7f7f7"
            ],
            [
             0.6,
             "#e6f5d0"
            ],
            [
             0.7,
             "#b8e186"
            ],
            [
             0.8,
             "#7fbc41"
            ],
            [
             0.9,
             "#4d9221"
            ],
            [
             1,
             "#276419"
            ]
           ],
           "sequential": [
            [
             0,
             "#0d0887"
            ],
            [
             0.1111111111111111,
             "#46039f"
            ],
            [
             0.2222222222222222,
             "#7201a8"
            ],
            [
             0.3333333333333333,
             "#9c179e"
            ],
            [
             0.4444444444444444,
             "#bd3786"
            ],
            [
             0.5555555555555556,
             "#d8576b"
            ],
            [
             0.6666666666666666,
             "#ed7953"
            ],
            [
             0.7777777777777778,
             "#fb9f3a"
            ],
            [
             0.8888888888888888,
             "#fdca26"
            ],
            [
             1,
             "#f0f921"
            ]
           ],
           "sequentialminus": [
            [
             0,
             "#0d0887"
            ],
            [
             0.1111111111111111,
             "#46039f"
            ],
            [
             0.2222222222222222,
             "#7201a8"
            ],
            [
             0.3333333333333333,
             "#9c179e"
            ],
            [
             0.4444444444444444,
             "#bd3786"
            ],
            [
             0.5555555555555556,
             "#d8576b"
            ],
            [
             0.6666666666666666,
             "#ed7953"
            ],
            [
             0.7777777777777778,
             "#fb9f3a"
            ],
            [
             0.8888888888888888,
             "#fdca26"
            ],
            [
             1,
             "#f0f921"
            ]
           ]
          },
          "colorway": [
           "#636efa",
           "#EF553B",
           "#00cc96",
           "#ab63fa",
           "#FFA15A",
           "#19d3f3",
           "#FF6692",
           "#B6E880",
           "#FF97FF",
           "#FECB52"
          ],
          "font": {
           "color": "#2a3f5f"
          },
          "geo": {
           "bgcolor": "white",
           "lakecolor": "white",
           "landcolor": "#E5ECF6",
           "showlakes": true,
           "showland": true,
           "subunitcolor": "white"
          },
          "hoverlabel": {
           "align": "left"
          },
          "hovermode": "closest",
          "mapbox": {
           "style": "light"
          },
          "paper_bgcolor": "white",
          "plot_bgcolor": "#E5ECF6",
          "polar": {
           "angularaxis": {
            "gridcolor": "white",
            "linecolor": "white",
            "ticks": ""
           },
           "bgcolor": "#E5ECF6",
           "radialaxis": {
            "gridcolor": "white",
            "linecolor": "white",
            "ticks": ""
           }
          },
          "scene": {
           "xaxis": {
            "backgroundcolor": "#E5ECF6",
            "gridcolor": "white",
            "gridwidth": 2,
            "linecolor": "white",
            "showbackground": true,
            "ticks": "",
            "zerolinecolor": "white"
           },
           "yaxis": {
            "backgroundcolor": "#E5ECF6",
            "gridcolor": "white",
            "gridwidth": 2,
            "linecolor": "white",
            "showbackground": true,
            "ticks": "",
            "zerolinecolor": "white"
           },
           "zaxis": {
            "backgroundcolor": "#E5ECF6",
            "gridcolor": "white",
            "gridwidth": 2,
            "linecolor": "white",
            "showbackground": true,
            "ticks": "",
            "zerolinecolor": "white"
           }
          },
          "shapedefaults": {
           "line": {
            "color": "#2a3f5f"
           }
          },
          "ternary": {
           "aaxis": {
            "gridcolor": "white",
            "linecolor": "white",
            "ticks": ""
           },
           "baxis": {
            "gridcolor": "white",
            "linecolor": "white",
            "ticks": ""
           },
           "bgcolor": "#E5ECF6",
           "caxis": {
            "gridcolor": "white",
            "linecolor": "white",
            "ticks": ""
           }
          },
          "title": {
           "x": 0.05
          },
          "xaxis": {
           "automargin": true,
           "gridcolor": "white",
           "linecolor": "white",
           "ticks": "",
           "title": {
            "standoff": 15
           },
           "zerolinecolor": "white",
           "zerolinewidth": 2
          },
          "yaxis": {
           "automargin": true,
           "gridcolor": "white",
           "linecolor": "white",
           "ticks": "",
           "title": {
            "standoff": 15
           },
           "zerolinecolor": "white",
           "zerolinewidth": 2
          }
         }
        },
        "title": {
         "text": "Hyperparameter Importances"
        },
        "xaxis": {
         "title": {
          "text": "Importance for Precision"
         }
        },
        "yaxis": {
         "title": {
          "text": "Hyperparameter"
         }
        }
       }
      }
     },
     "metadata": {},
     "output_type": "display_data"
    }
   ],
   "source": [
    "# Mostrar la importancia de los hiperparámetros\n",
    "# Visualizar la importancia de los hiperparámetros para el objetivo de \"Precision\"\n",
    "optuna.visualization.plot_param_importances(study, target=lambda t: t.values[0], target_name=\"Precision\")\n"
   ]
  },
  {
   "cell_type": "code",
   "execution_count": 16,
   "metadata": {},
   "outputs": [
    {
     "data": {
      "application/vnd.plotly.v1+json": {
       "config": {
        "plotlyServerURL": "https://plot.ly"
       },
       "data": [
        {
         "cliponaxis": false,
         "hovertemplate": [
          "activation_l0 (CategoricalDistribution): 0.024077586892104687<extra></extra>",
          "n_units_l0 (IntDistribution): 0.05112811392001263<extra></extra>",
          "n_layers (IntDistribution): 0.058985108379449<extra></extra>",
          "batch_size (IntDistribution): 0.17972642215486695<extra></extra>",
          "epochs (IntDistribution): 0.2887311083190062<extra></extra>",
          "optimizer (CategoricalDistribution): 0.3973516603345606<extra></extra>"
         ],
         "marker": {
          "color": "rgb(66,146,198)"
         },
         "orientation": "h",
         "text": [
          "0.02",
          "0.05",
          "0.06",
          "0.18",
          "0.29",
          "0.40"
         ],
         "textposition": "outside",
         "type": "bar",
         "x": [
          0.024077586892104687,
          0.05112811392001263,
          0.058985108379449,
          0.17972642215486695,
          0.2887311083190062,
          0.3973516603345606
         ],
         "y": [
          "activation_l0",
          "n_units_l0",
          "n_layers",
          "batch_size",
          "epochs",
          "optimizer"
         ]
        }
       ],
       "layout": {
        "showlegend": false,
        "template": {
         "data": {
          "bar": [
           {
            "error_x": {
             "color": "#2a3f5f"
            },
            "error_y": {
             "color": "#2a3f5f"
            },
            "marker": {
             "line": {
              "color": "#E5ECF6",
              "width": 0.5
             },
             "pattern": {
              "fillmode": "overlay",
              "size": 10,
              "solidity": 0.2
             }
            },
            "type": "bar"
           }
          ],
          "barpolar": [
           {
            "marker": {
             "line": {
              "color": "#E5ECF6",
              "width": 0.5
             },
             "pattern": {
              "fillmode": "overlay",
              "size": 10,
              "solidity": 0.2
             }
            },
            "type": "barpolar"
           }
          ],
          "carpet": [
           {
            "aaxis": {
             "endlinecolor": "#2a3f5f",
             "gridcolor": "white",
             "linecolor": "white",
             "minorgridcolor": "white",
             "startlinecolor": "#2a3f5f"
            },
            "baxis": {
             "endlinecolor": "#2a3f5f",
             "gridcolor": "white",
             "linecolor": "white",
             "minorgridcolor": "white",
             "startlinecolor": "#2a3f5f"
            },
            "type": "carpet"
           }
          ],
          "choropleth": [
           {
            "colorbar": {
             "outlinewidth": 0,
             "ticks": ""
            },
            "type": "choropleth"
           }
          ],
          "contour": [
           {
            "colorbar": {
             "outlinewidth": 0,
             "ticks": ""
            },
            "colorscale": [
             [
              0,
              "#0d0887"
             ],
             [
              0.1111111111111111,
              "#46039f"
             ],
             [
              0.2222222222222222,
              "#7201a8"
             ],
             [
              0.3333333333333333,
              "#9c179e"
             ],
             [
              0.4444444444444444,
              "#bd3786"
             ],
             [
              0.5555555555555556,
              "#d8576b"
             ],
             [
              0.6666666666666666,
              "#ed7953"
             ],
             [
              0.7777777777777778,
              "#fb9f3a"
             ],
             [
              0.8888888888888888,
              "#fdca26"
             ],
             [
              1,
              "#f0f921"
             ]
            ],
            "type": "contour"
           }
          ],
          "contourcarpet": [
           {
            "colorbar": {
             "outlinewidth": 0,
             "ticks": ""
            },
            "type": "contourcarpet"
           }
          ],
          "heatmap": [
           {
            "colorbar": {
             "outlinewidth": 0,
             "ticks": ""
            },
            "colorscale": [
             [
              0,
              "#0d0887"
             ],
             [
              0.1111111111111111,
              "#46039f"
             ],
             [
              0.2222222222222222,
              "#7201a8"
             ],
             [
              0.3333333333333333,
              "#9c179e"
             ],
             [
              0.4444444444444444,
              "#bd3786"
             ],
             [
              0.5555555555555556,
              "#d8576b"
             ],
             [
              0.6666666666666666,
              "#ed7953"
             ],
             [
              0.7777777777777778,
              "#fb9f3a"
             ],
             [
              0.8888888888888888,
              "#fdca26"
             ],
             [
              1,
              "#f0f921"
             ]
            ],
            "type": "heatmap"
           }
          ],
          "heatmapgl": [
           {
            "colorbar": {
             "outlinewidth": 0,
             "ticks": ""
            },
            "colorscale": [
             [
              0,
              "#0d0887"
             ],
             [
              0.1111111111111111,
              "#46039f"
             ],
             [
              0.2222222222222222,
              "#7201a8"
             ],
             [
              0.3333333333333333,
              "#9c179e"
             ],
             [
              0.4444444444444444,
              "#bd3786"
             ],
             [
              0.5555555555555556,
              "#d8576b"
             ],
             [
              0.6666666666666666,
              "#ed7953"
             ],
             [
              0.7777777777777778,
              "#fb9f3a"
             ],
             [
              0.8888888888888888,
              "#fdca26"
             ],
             [
              1,
              "#f0f921"
             ]
            ],
            "type": "heatmapgl"
           }
          ],
          "histogram": [
           {
            "marker": {
             "pattern": {
              "fillmode": "overlay",
              "size": 10,
              "solidity": 0.2
             }
            },
            "type": "histogram"
           }
          ],
          "histogram2d": [
           {
            "colorbar": {
             "outlinewidth": 0,
             "ticks": ""
            },
            "colorscale": [
             [
              0,
              "#0d0887"
             ],
             [
              0.1111111111111111,
              "#46039f"
             ],
             [
              0.2222222222222222,
              "#7201a8"
             ],
             [
              0.3333333333333333,
              "#9c179e"
             ],
             [
              0.4444444444444444,
              "#bd3786"
             ],
             [
              0.5555555555555556,
              "#d8576b"
             ],
             [
              0.6666666666666666,
              "#ed7953"
             ],
             [
              0.7777777777777778,
              "#fb9f3a"
             ],
             [
              0.8888888888888888,
              "#fdca26"
             ],
             [
              1,
              "#f0f921"
             ]
            ],
            "type": "histogram2d"
           }
          ],
          "histogram2dcontour": [
           {
            "colorbar": {
             "outlinewidth": 0,
             "ticks": ""
            },
            "colorscale": [
             [
              0,
              "#0d0887"
             ],
             [
              0.1111111111111111,
              "#46039f"
             ],
             [
              0.2222222222222222,
              "#7201a8"
             ],
             [
              0.3333333333333333,
              "#9c179e"
             ],
             [
              0.4444444444444444,
              "#bd3786"
             ],
             [
              0.5555555555555556,
              "#d8576b"
             ],
             [
              0.6666666666666666,
              "#ed7953"
             ],
             [
              0.7777777777777778,
              "#fb9f3a"
             ],
             [
              0.8888888888888888,
              "#fdca26"
             ],
             [
              1,
              "#f0f921"
             ]
            ],
            "type": "histogram2dcontour"
           }
          ],
          "mesh3d": [
           {
            "colorbar": {
             "outlinewidth": 0,
             "ticks": ""
            },
            "type": "mesh3d"
           }
          ],
          "parcoords": [
           {
            "line": {
             "colorbar": {
              "outlinewidth": 0,
              "ticks": ""
             }
            },
            "type": "parcoords"
           }
          ],
          "pie": [
           {
            "automargin": true,
            "type": "pie"
           }
          ],
          "scatter": [
           {
            "fillpattern": {
             "fillmode": "overlay",
             "size": 10,
             "solidity": 0.2
            },
            "type": "scatter"
           }
          ],
          "scatter3d": [
           {
            "line": {
             "colorbar": {
              "outlinewidth": 0,
              "ticks": ""
             }
            },
            "marker": {
             "colorbar": {
              "outlinewidth": 0,
              "ticks": ""
             }
            },
            "type": "scatter3d"
           }
          ],
          "scattercarpet": [
           {
            "marker": {
             "colorbar": {
              "outlinewidth": 0,
              "ticks": ""
             }
            },
            "type": "scattercarpet"
           }
          ],
          "scattergeo": [
           {
            "marker": {
             "colorbar": {
              "outlinewidth": 0,
              "ticks": ""
             }
            },
            "type": "scattergeo"
           }
          ],
          "scattergl": [
           {
            "marker": {
             "colorbar": {
              "outlinewidth": 0,
              "ticks": ""
             }
            },
            "type": "scattergl"
           }
          ],
          "scattermapbox": [
           {
            "marker": {
             "colorbar": {
              "outlinewidth": 0,
              "ticks": ""
             }
            },
            "type": "scattermapbox"
           }
          ],
          "scatterpolar": [
           {
            "marker": {
             "colorbar": {
              "outlinewidth": 0,
              "ticks": ""
             }
            },
            "type": "scatterpolar"
           }
          ],
          "scatterpolargl": [
           {
            "marker": {
             "colorbar": {
              "outlinewidth": 0,
              "ticks": ""
             }
            },
            "type": "scatterpolargl"
           }
          ],
          "scatterternary": [
           {
            "marker": {
             "colorbar": {
              "outlinewidth": 0,
              "ticks": ""
             }
            },
            "type": "scatterternary"
           }
          ],
          "surface": [
           {
            "colorbar": {
             "outlinewidth": 0,
             "ticks": ""
            },
            "colorscale": [
             [
              0,
              "#0d0887"
             ],
             [
              0.1111111111111111,
              "#46039f"
             ],
             [
              0.2222222222222222,
              "#7201a8"
             ],
             [
              0.3333333333333333,
              "#9c179e"
             ],
             [
              0.4444444444444444,
              "#bd3786"
             ],
             [
              0.5555555555555556,
              "#d8576b"
             ],
             [
              0.6666666666666666,
              "#ed7953"
             ],
             [
              0.7777777777777778,
              "#fb9f3a"
             ],
             [
              0.8888888888888888,
              "#fdca26"
             ],
             [
              1,
              "#f0f921"
             ]
            ],
            "type": "surface"
           }
          ],
          "table": [
           {
            "cells": {
             "fill": {
              "color": "#EBF0F8"
             },
             "line": {
              "color": "white"
             }
            },
            "header": {
             "fill": {
              "color": "#C8D4E3"
             },
             "line": {
              "color": "white"
             }
            },
            "type": "table"
           }
          ]
         },
         "layout": {
          "annotationdefaults": {
           "arrowcolor": "#2a3f5f",
           "arrowhead": 0,
           "arrowwidth": 1
          },
          "autotypenumbers": "strict",
          "coloraxis": {
           "colorbar": {
            "outlinewidth": 0,
            "ticks": ""
           }
          },
          "colorscale": {
           "diverging": [
            [
             0,
             "#8e0152"
            ],
            [
             0.1,
             "#c51b7d"
            ],
            [
             0.2,
             "#de77ae"
            ],
            [
             0.3,
             "#f1b6da"
            ],
            [
             0.4,
             "#fde0ef"
            ],
            [
             0.5,
             "#f7f7f7"
            ],
            [
             0.6,
             "#e6f5d0"
            ],
            [
             0.7,
             "#b8e186"
            ],
            [
             0.8,
             "#7fbc41"
            ],
            [
             0.9,
             "#4d9221"
            ],
            [
             1,
             "#276419"
            ]
           ],
           "sequential": [
            [
             0,
             "#0d0887"
            ],
            [
             0.1111111111111111,
             "#46039f"
            ],
            [
             0.2222222222222222,
             "#7201a8"
            ],
            [
             0.3333333333333333,
             "#9c179e"
            ],
            [
             0.4444444444444444,
             "#bd3786"
            ],
            [
             0.5555555555555556,
             "#d8576b"
            ],
            [
             0.6666666666666666,
             "#ed7953"
            ],
            [
             0.7777777777777778,
             "#fb9f3a"
            ],
            [
             0.8888888888888888,
             "#fdca26"
            ],
            [
             1,
             "#f0f921"
            ]
           ],
           "sequentialminus": [
            [
             0,
             "#0d0887"
            ],
            [
             0.1111111111111111,
             "#46039f"
            ],
            [
             0.2222222222222222,
             "#7201a8"
            ],
            [
             0.3333333333333333,
             "#9c179e"
            ],
            [
             0.4444444444444444,
             "#bd3786"
            ],
            [
             0.5555555555555556,
             "#d8576b"
            ],
            [
             0.6666666666666666,
             "#ed7953"
            ],
            [
             0.7777777777777778,
             "#fb9f3a"
            ],
            [
             0.8888888888888888,
             "#fdca26"
            ],
            [
             1,
             "#f0f921"
            ]
           ]
          },
          "colorway": [
           "#636efa",
           "#EF553B",
           "#00cc96",
           "#ab63fa",
           "#FFA15A",
           "#19d3f3",
           "#FF6692",
           "#B6E880",
           "#FF97FF",
           "#FECB52"
          ],
          "font": {
           "color": "#2a3f5f"
          },
          "geo": {
           "bgcolor": "white",
           "lakecolor": "white",
           "landcolor": "#E5ECF6",
           "showlakes": true,
           "showland": true,
           "subunitcolor": "white"
          },
          "hoverlabel": {
           "align": "left"
          },
          "hovermode": "closest",
          "mapbox": {
           "style": "light"
          },
          "paper_bgcolor": "white",
          "plot_bgcolor": "#E5ECF6",
          "polar": {
           "angularaxis": {
            "gridcolor": "white",
            "linecolor": "white",
            "ticks": ""
           },
           "bgcolor": "#E5ECF6",
           "radialaxis": {
            "gridcolor": "white",
            "linecolor": "white",
            "ticks": ""
           }
          },
          "scene": {
           "xaxis": {
            "backgroundcolor": "#E5ECF6",
            "gridcolor": "white",
            "gridwidth": 2,
            "linecolor": "white",
            "showbackground": true,
            "ticks": "",
            "zerolinecolor": "white"
           },
           "yaxis": {
            "backgroundcolor": "#E5ECF6",
            "gridcolor": "white",
            "gridwidth": 2,
            "linecolor": "white",
            "showbackground": true,
            "ticks": "",
            "zerolinecolor": "white"
           },
           "zaxis": {
            "backgroundcolor": "#E5ECF6",
            "gridcolor": "white",
            "gridwidth": 2,
            "linecolor": "white",
            "showbackground": true,
            "ticks": "",
            "zerolinecolor": "white"
           }
          },
          "shapedefaults": {
           "line": {
            "color": "#2a3f5f"
           }
          },
          "ternary": {
           "aaxis": {
            "gridcolor": "white",
            "linecolor": "white",
            "ticks": ""
           },
           "baxis": {
            "gridcolor": "white",
            "linecolor": "white",
            "ticks": ""
           },
           "bgcolor": "#E5ECF6",
           "caxis": {
            "gridcolor": "white",
            "linecolor": "white",
            "ticks": ""
           }
          },
          "title": {
           "x": 0.05
          },
          "xaxis": {
           "automargin": true,
           "gridcolor": "white",
           "linecolor": "white",
           "ticks": "",
           "title": {
            "standoff": 15
           },
           "zerolinecolor": "white",
           "zerolinewidth": 2
          },
          "yaxis": {
           "automargin": true,
           "gridcolor": "white",
           "linecolor": "white",
           "ticks": "",
           "title": {
            "standoff": 15
           },
           "zerolinecolor": "white",
           "zerolinewidth": 2
          }
         }
        },
        "title": {
         "text": "Hyperparameter Importances"
        },
        "xaxis": {
         "title": {
          "text": "Importance for Recall"
         }
        },
        "yaxis": {
         "title": {
          "text": "Hyperparameter"
         }
        }
       }
      }
     },
     "metadata": {},
     "output_type": "display_data"
    }
   ],
   "source": [
    "\n",
    "# Visualizar la importancia de los hiperparámetros para el objetivo de \"Recall\"\n",
    "optuna.visualization.plot_param_importances(study, target=lambda t: t.values[1], target_name=\"Recall\")\n"
   ]
  },
  {
   "cell_type": "code",
   "execution_count": 12,
   "metadata": {},
   "outputs": [
    {
     "data": {
      "image/png": "[encoded data removed]",
      "text/plain": [
       "<Figure size 800x600 with 1 Axes>"
      ]
     },
     "metadata": {},
     "output_type": "display_data"
    }
   ],
   "source": [
    "def plot_pareto_front(study):\n",
    "    trials = study.trials\n",
    "    precisions = [1 - trial.values[0] for trial in trials]\n",
    "    recalls = [1 - trial.values[1] for trial in trials]\n",
    "\n",
    "    import matplotlib.pyplot as plt\n",
    "    plt.figure(figsize=(8, 6))\n",
    "    plt.scatter(precisions, recalls, c='blue')\n",
    "    plt.xlabel('Precision')\n",
    "    plt.ylabel('Recall')\n",
    "    plt.title('Pareto Front for Precision vs Recall')\n",
    "    plt.show()\n",
    "\n",
    "plot_pareto_front(study)"
   ]
  }
 ],
 "metadata": {
  "kernelspec": {
   "display_name": "IA",
   "language": "python",
   "name": "python3"
  },
  "language_info": {
   "codemirror_mode": {
    "name": "ipython",
    "version": 3
   },
   "file_extension": ".py",
   "mimetype": "text/x-python",
   "name": "python",
   "nbconvert_exporter": "python",
   "pygments_lexer": "ipython3",
   "version": "3.10.11"
  }
 },
 "nbformat": 4,
 "nbformat_minor": 2
}
