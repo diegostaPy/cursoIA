{
 "cells": [
  {
   "cell_type": "code",
   "execution_count": 1,
   "metadata": {},
   "outputs": [
    {
     "name": "stderr",
     "output_type": "stream",
     "text": [
      "\u001b[32m[I 2024-09-06 08:49:18,448]\u001b[0m A new study created in memory with name: no-name-deaef50a-2eef-4982-aa83-76a1a59c8217\u001b[0m\n"
     ]
    },
    {
     "name": "stdout",
     "output_type": "stream",
     "text": [
      "1/1 [==============================] - 0s 104ms/step\n"
     ]
    },
    {
     "name": "stderr",
     "output_type": "stream",
     "text": [
      "\u001b[32m[I 2024-09-06 08:49:54,842]\u001b[0m Trial 0 finished with value: 0.8724747474747476 and parameters: {'n_layers': 1, 'n_units_l0': 24, 'activation_l0': 'relu', 'optimizer': 'adam', 'batch_size': 20, 'epochs': 17}. Best is trial 0 with value: 0.8724747474747476.\u001b[0m\n"
     ]
    },
    {
     "name": "stdout",
     "output_type": "stream",
     "text": [
      "1/1 [==============================] - 0s 51ms/step\n"
     ]
    },
    {
     "name": "stderr",
     "output_type": "stream",
     "text": [
      "\u001b[32m[I 2024-09-06 08:49:55,533]\u001b[0m Trial 1 finished with value: 0.28935185185185175 and parameters: {'n_layers': 3, 'n_units_l0': 116, 'activation_l0': 'tanh', 'n_units_l1': 9, 'activation_l1': 'tanh', 'n_units_l2': 31, 'activation_l2': 'tanh', 'optimizer': 'sgd', 'batch_size': 47, 'epochs': 13}. Best is trial 1 with value: 0.28935185185185175.\u001b[0m\n"
     ]
    },
    {
     "name": "stdout",
     "output_type": "stream",
     "text": [
      "1/1 [==============================] - 0s 71ms/step\n"
     ]
    },
    {
     "name": "stderr",
     "output_type": "stream",
     "text": [
      "\u001b[32m[I 2024-09-06 08:49:56,491]\u001b[0m Trial 2 finished with value: 0.0636363636363636 and parameters: {'n_layers': 3, 'n_units_l0': 56, 'activation_l0': 'tanh', 'n_units_l1': 112, 'activation_l1': 'tanh', 'n_units_l2': 11, 'activation_l2': 'tanh', 'optimizer': 'adam', 'batch_size': 26, 'epochs': 20}. Best is trial 2 with value: 0.0636363636363636.\u001b[0m\n"
     ]
    },
    {
     "name": "stdout",
     "output_type": "stream",
     "text": [
      "1/1 [==============================] - 0s 57ms/step\n"
     ]
    },
    {
     "name": "stderr",
     "output_type": "stream",
     "text": [
      "\u001b[32m[I 2024-09-06 08:49:57,149]\u001b[0m Trial 3 finished with value: 0.23703703703703716 and parameters: {'n_layers': 1, 'n_units_l0': 82, 'activation_l0': 'tanh', 'optimizer': 'adam', 'batch_size': 34, 'epochs': 11}. Best is trial 2 with value: 0.0636363636363636.\u001b[0m\n"
     ]
    },
    {
     "name": "stdout",
     "output_type": "stream",
     "text": [
      "WARNING:tensorflow:5 out of the last 5 calls to <function Model.make_predict_function.<locals>.predict_function at 0x000001AF8E6C28C0> triggered tf.function retracing. Tracing is expensive and the excessive number of tracings could be due to (1) creating @tf.function repeatedly in a loop, (2) passing tensors with different shapes, (3) passing Python objects instead of tensors. For (1), please define your @tf.function outside of the loop. For (2), @tf.function has reduce_retracing=True option that can avoid unnecessary retracing. For (3), please refer to https://www.tensorflow.org/guide/function#controlling_retracing and https://www.tensorflow.org/api_docs/python/tf/function for  more details.\n",
      "1/1 [==============================] - 0s 49ms/step\n"
     ]
    },
    {
     "name": "stderr",
     "output_type": "stream",
     "text": [
      "\u001b[32m[I 2024-09-06 08:49:58,007]\u001b[0m Trial 4 finished with value: 0.0 and parameters: {'n_layers': 2, 'n_units_l0': 112, 'activation_l0': 'tanh', 'n_units_l1': 12, 'activation_l1': 'tanh', 'optimizer': 'adam', 'batch_size': 61, 'epochs': 42}. Best is trial 4 with value: 0.0.\u001b[0m\n"
     ]
    },
    {
     "name": "stdout",
     "output_type": "stream",
     "text": [
      "WARNING:tensorflow:6 out of the last 6 calls to <function Model.make_predict_function.<locals>.predict_function at 0x000001AF8E6C0430> triggered tf.function retracing. Tracing is expensive and the excessive number of tracings could be due to (1) creating @tf.function repeatedly in a loop, (2) passing tensors with different shapes, (3) passing Python objects instead of tensors. For (1), please define your @tf.function outside of the loop. For (2), @tf.function has reduce_retracing=True option that can avoid unnecessary retracing. For (3), please refer to https://www.tensorflow.org/guide/function#controlling_retracing and https://www.tensorflow.org/api_docs/python/tf/function for  more details.\n",
      "1/1 [==============================] - 0s 51ms/step\n"
     ]
    },
    {
     "name": "stderr",
     "output_type": "stream",
     "text": [
      "\u001b[32m[I 2024-09-06 08:49:59,039]\u001b[0m Trial 5 finished with value: 0.06481481481481488 and parameters: {'n_layers': 3, 'n_units_l0': 55, 'activation_l0': 'tanh', 'n_units_l1': 12, 'activation_l1': 'relu', 'n_units_l2': 25, 'activation_l2': 'tanh', 'optimizer': 'rmsprop', 'batch_size': 32, 'epochs': 20}. Best is trial 4 with value: 0.0.\u001b[0m\n"
     ]
    },
    {
     "name": "stdout",
     "output_type": "stream",
     "text": [
      "1/1 [==============================] - 0s 72ms/step\n"
     ]
    },
    {
     "name": "stderr",
     "output_type": "stream",
     "text": [
      "\u001b[32m[I 2024-09-06 08:49:59,995]\u001b[0m Trial 6 finished with value: 0.0 and parameters: {'n_layers': 3, 'n_units_l0': 60, 'activation_l0': 'relu', 'n_units_l1': 53, 'activation_l1': 'relu', 'n_units_l2': 85, 'activation_l2': 'tanh', 'optimizer': 'sgd', 'batch_size': 41, 'epochs': 44}. Best is trial 4 with value: 0.0.\u001b[0m\n"
     ]
    },
    {
     "name": "stdout",
     "output_type": "stream",
     "text": [
      "1/1 [==============================] - 0s 56ms/step\n"
     ]
    },
    {
     "name": "stderr",
     "output_type": "stream",
     "text": [
      "\u001b[32m[I 2024-09-06 08:50:00,780]\u001b[0m Trial 7 finished with value: 0.22377622377622375 and parameters: {'n_layers': 1, 'n_units_l0': 100, 'activation_l0': 'relu', 'optimizer': 'sgd', 'batch_size': 28, 'epochs': 25}. Best is trial 4 with value: 0.0.\u001b[0m\n"
     ]
    },
    {
     "name": "stdout",
     "output_type": "stream",
     "text": [
      "1/1 [==============================] - 0s 45ms/step\n"
     ]
    },
    {
     "name": "stderr",
     "output_type": "stream",
     "text": [
      "\u001b[32m[I 2024-09-06 08:50:01,901]\u001b[0m Trial 8 finished with value: 0.28935185185185175 and parameters: {'n_layers': 2, 'n_units_l0': 13, 'activation_l0': 'relu', 'n_units_l1': 72, 'activation_l1': 'relu', 'optimizer': 'sgd', 'batch_size': 16, 'epochs': 26}. Best is trial 4 with value: 0.0.\u001b[0m\n"
     ]
    },
    {
     "name": "stdout",
     "output_type": "stream",
     "text": [
      "1/1 [==============================] - 0s 40ms/step\n"
     ]
    },
    {
     "name": "stderr",
     "output_type": "stream",
     "text": [
      "\u001b[32m[I 2024-09-06 08:50:02,734]\u001b[0m Trial 9 finished with value: 0.0636363636363636 and parameters: {'n_layers': 1, 'n_units_l0': 38, 'activation_l0': 'tanh', 'optimizer': 'rmsprop', 'batch_size': 32, 'epochs': 20}. Best is trial 4 with value: 0.0.\u001b[0m\n"
     ]
    },
    {
     "name": "stdout",
     "output_type": "stream",
     "text": [
      "1/1 [==============================] - 0s 47ms/step\n"
     ]
    },
    {
     "name": "stderr",
     "output_type": "stream",
     "text": [
      "\u001b[32m[I 2024-09-06 08:50:03,640]\u001b[0m Trial 10 finished with value: 0.0 and parameters: {'n_layers': 2, 'n_units_l0': 128, 'activation_l0': 'tanh', 'n_units_l1': 48, 'activation_l1': 'tanh', 'optimizer': 'adam', 'batch_size': 64, 'epochs': 41}. Best is trial 4 with value: 0.0.\u001b[0m\n"
     ]
    },
    {
     "name": "stdout",
     "output_type": "stream",
     "text": [
      "1/1 [==============================] - 0s 46ms/step\n"
     ]
    },
    {
     "name": "stderr",
     "output_type": "stream",
     "text": [
      "\u001b[32m[I 2024-09-06 08:50:04,562]\u001b[0m Trial 11 finished with value: 0.25589225589225606 and parameters: {'n_layers': 2, 'n_units_l0': 82, 'activation_l0': 'relu', 'n_units_l1': 53, 'activation_l1': 'relu', 'optimizer': 'sgd', 'batch_size': 49, 'epochs': 50}. Best is trial 4 with value: 0.0.\u001b[0m\n"
     ]
    },
    {
     "name": "stdout",
     "output_type": "stream",
     "text": [
      "1/1 [==============================] - 0s 53ms/step\n"
     ]
    },
    {
     "name": "stderr",
     "output_type": "stream",
     "text": [
      "\u001b[32m[I 2024-09-06 08:50:05,434]\u001b[0m Trial 12 finished with value: 0.33986928104575176 and parameters: {'n_layers': 3, 'n_units_l0': 86, 'activation_l0': 'relu', 'n_units_l1': 34, 'activation_l1': 'tanh', 'n_units_l2': 117, 'activation_l2': 'relu', 'optimizer': 'sgd', 'batch_size': 64, 'epochs': 39}. Best is trial 4 with value: 0.0.\u001b[0m\n"
     ]
    },
    {
     "name": "stdout",
     "output_type": "stream",
     "text": [
      "1/1 [==============================] - 0s 46ms/step\n"
     ]
    },
    {
     "name": "stderr",
     "output_type": "stream",
     "text": [
      "\u001b[32m[I 2024-09-06 08:50:06,336]\u001b[0m Trial 13 finished with value: 0.23703703703703716 and parameters: {'n_layers': 2, 'n_units_l0': 40, 'activation_l0': 'relu', 'n_units_l1': 79, 'activation_l1': 'relu', 'optimizer': 'adam', 'batch_size': 55, 'epochs': 38}. Best is trial 4 with value: 0.0.\u001b[0m\n"
     ]
    },
    {
     "name": "stdout",
     "output_type": "stream",
     "text": [
      "1/1 [==============================] - 0s 45ms/step\n"
     ]
    },
    {
     "name": "stderr",
     "output_type": "stream",
     "text": [
      "\u001b[32m[I 2024-09-06 08:50:07,623]\u001b[0m Trial 14 finished with value: 0.06481481481481488 and parameters: {'n_layers': 2, 'n_units_l0': 68, 'activation_l0': 'relu', 'n_units_l1': 101, 'activation_l1': 'relu', 'optimizer': 'rmsprop', 'batch_size': 42, 'epochs': 48}. Best is trial 4 with value: 0.0.\u001b[0m\n"
     ]
    },
    {
     "name": "stdout",
     "output_type": "stream",
     "text": [
      "1/1 [==============================] - 0s 53ms/step\n"
     ]
    },
    {
     "name": "stderr",
     "output_type": "stream",
     "text": [
      "\u001b[32m[I 2024-09-06 08:50:08,592]\u001b[0m Trial 15 finished with value: 0.0 and parameters: {'n_layers': 3, 'n_units_l0': 106, 'activation_l0': 'tanh', 'n_units_l1': 33, 'activation_l1': 'tanh', 'n_units_l2': 94, 'activation_l2': 'relu', 'optimizer': 'adam', 'batch_size': 55, 'epochs': 33}. Best is trial 4 with value: 0.0.\u001b[0m\n"
     ]
    },
    {
     "name": "stdout",
     "output_type": "stream",
     "text": [
      "1/1 [==============================] - 0s 47ms/step\n"
     ]
    },
    {
     "name": "stderr",
     "output_type": "stream",
     "text": [
      "\u001b[32m[I 2024-09-06 08:50:09,438]\u001b[0m Trial 16 finished with value: 0.0 and parameters: {'n_layers': 2, 'n_units_l0': 67, 'activation_l0': 'tanh', 'n_units_l1': 89, 'activation_l1': 'relu', 'optimizer': 'sgd', 'batch_size': 40, 'epochs': 44}. Best is trial 4 with value: 0.0.\u001b[0m\n"
     ]
    },
    {
     "name": "stdout",
     "output_type": "stream",
     "text": [
      "1/1 [==============================] - 0s 52ms/step\n"
     ]
    },
    {
     "name": "stderr",
     "output_type": "stream",
     "text": [
      "\u001b[32m[I 2024-09-06 08:50:10,478]\u001b[0m Trial 17 finished with value: 0.22377622377622375 and parameters: {'n_layers': 3, 'n_units_l0': 95, 'activation_l0': 'relu', 'n_units_l1': 28, 'activation_l1': 'tanh', 'n_units_l2': 73, 'activation_l2': 'tanh', 'optimizer': 'adam', 'batch_size': 57, 'epochs': 34}. Best is trial 4 with value: 0.0.\u001b[0m\n"
     ]
    },
    {
     "name": "stdout",
     "output_type": "stream",
     "text": [
      "1/1 [==============================] - 0s 51ms/step\n"
     ]
    },
    {
     "name": "stderr",
     "output_type": "stream",
     "text": [
      "\u001b[32m[I 2024-09-06 08:50:11,416]\u001b[0m Trial 18 finished with value: 0.06481481481481488 and parameters: {'n_layers': 2, 'n_units_l0': 45, 'activation_l0': 'relu', 'n_units_l1': 54, 'activation_l1': 'tanh', 'optimizer': 'sgd', 'batch_size': 40, 'epochs': 45}. Best is trial 4 with value: 0.0.\u001b[0m\n"
     ]
    },
    {
     "name": "stdout",
     "output_type": "stream",
     "text": [
      "1/1 [==============================] - 0s 57ms/step\n"
     ]
    },
    {
     "name": "stderr",
     "output_type": "stream",
     "text": [
      "\u001b[32m[I 2024-09-06 08:50:12,509]\u001b[0m Trial 19 finished with value: 0.06481481481481488 and parameters: {'n_layers': 3, 'n_units_l0': 124, 'activation_l0': 'tanh', 'n_units_l1': 126, 'activation_l1': 'relu', 'n_units_l2': 61, 'activation_l2': 'tanh', 'optimizer': 'rmsprop', 'batch_size': 49, 'epochs': 33}. Best is trial 4 with value: 0.0.\u001b[0m\n"
     ]
    },
    {
     "name": "stdout",
     "output_type": "stream",
     "text": [
      "1/1 [==============================] - 0s 45ms/step\n"
     ]
    },
    {
     "name": "stderr",
     "output_type": "stream",
     "text": [
      "h:\\Anaconda\\envs\\IA\\lib\\site-packages\\sklearn\\metrics\\_classification.py:1344: UndefinedMetricWarning: Precision is ill-defined and being set to 0.0 in labels with no predicted samples. Use `zero_division` parameter to control this behavior.\n",
      "  _warn_prf(average, modifier, msg_start, len(result))\n",
      "\u001b[32m[I 2024-09-06 08:50:13,373]\u001b[0m Trial 20 finished with value: 1.0703871292106588 and parameters: {'n_layers': 2, 'n_units_l0': 4, 'activation_l0': 'tanh', 'n_units_l1': 19, 'activation_l1': 'tanh', 'optimizer': 'adam', 'batch_size': 59, 'epochs': 44}. Best is trial 4 with value: 0.0.\u001b[0m\n"
     ]
    },
    {
     "name": "stdout",
     "output_type": "stream",
     "text": [
      "1/1 [==============================] - 0s 45ms/step\n"
     ]
    },
    {
     "name": "stderr",
     "output_type": "stream",
     "text": [
      "\u001b[32m[I 2024-09-06 08:50:14,101]\u001b[0m Trial 21 finished with value: 0.0 and parameters: {'n_layers': 2, 'n_units_l0': 127, 'activation_l0': 'tanh', 'n_units_l1': 52, 'activation_l1': 'tanh', 'optimizer': 'adam', 'batch_size': 64, 'epochs': 40}. Best is trial 4 with value: 0.0.\u001b[0m\n"
     ]
    },
    {
     "name": "stdout",
     "output_type": "stream",
     "text": [
      "1/1 [==============================] - 0s 48ms/step\n"
     ]
    },
    {
     "name": "stderr",
     "output_type": "stream",
     "text": [
      "\u001b[32m[I 2024-09-06 08:50:14,809]\u001b[0m Trial 22 finished with value: 0.0 and parameters: {'n_layers': 2, 'n_units_l0': 106, 'activation_l0': 'tanh', 'n_units_l1': 43, 'activation_l1': 'tanh', 'optimizer': 'adam', 'batch_size': 60, 'epochs': 41}. Best is trial 4 with value: 0.0.\u001b[0m\n"
     ]
    },
    {
     "name": "stdout",
     "output_type": "stream",
     "text": [
      "1/1 [==============================] - 0s 46ms/step\n"
     ]
    },
    {
     "name": "stderr",
     "output_type": "stream",
     "text": [
      "\u001b[32m[I 2024-09-06 08:50:15,764]\u001b[0m Trial 23 finished with value: 0.0 and parameters: {'n_layers': 2, 'n_units_l0': 116, 'activation_l0': 'tanh', 'n_units_l1': 66, 'activation_l1': 'tanh', 'optimizer': 'adam', 'batch_size': 52, 'epochs': 46}. Best is trial 4 with value: 0.0.\u001b[0m\n"
     ]
    },
    {
     "name": "stdout",
     "output_type": "stream",
     "text": [
      "1/1 [==============================] - 0s 39ms/step\n"
     ]
    },
    {
     "name": "stderr",
     "output_type": "stream",
     "text": [
      "\u001b[32m[I 2024-09-06 08:50:16,400]\u001b[0m Trial 24 finished with value: 0.06481481481481488 and parameters: {'n_layers': 1, 'n_units_l0': 74, 'activation_l0': 'tanh', 'optimizer': 'adam', 'batch_size': 61, 'epochs': 37}. Best is trial 4 with value: 0.0.\u001b[0m\n"
     ]
    },
    {
     "name": "stdout",
     "output_type": "stream",
     "text": [
      "1/1 [==============================] - 0s 46ms/step\n"
     ]
    },
    {
     "name": "stderr",
     "output_type": "stream",
     "text": [
      "\u001b[32m[I 2024-09-06 08:50:17,075]\u001b[0m Trial 25 finished with value: 0.1742424242424242 and parameters: {'n_layers': 2, 'n_units_l0': 115, 'activation_l0': 'tanh', 'n_units_l1': 62, 'activation_l1': 'tanh', 'optimizer': 'sgd', 'batch_size': 44, 'epochs': 29}. Best is trial 4 with value: 0.0.\u001b[0m\n"
     ]
    },
    {
     "name": "stdout",
     "output_type": "stream",
     "text": [
      "1/1 [==============================] - 0s 54ms/step\n"
     ]
    },
    {
     "name": "stderr",
     "output_type": "stream",
     "text": [
      "\u001b[32m[I 2024-09-06 08:50:18,043]\u001b[0m Trial 26 finished with value: 0.0 and parameters: {'n_layers': 3, 'n_units_l0': 92, 'activation_l0': 'relu', 'n_units_l1': 23, 'activation_l1': 'relu', 'n_units_l2': 126, 'activation_l2': 'relu', 'optimizer': 'adam', 'batch_size': 52, 'epochs': 42}. Best is trial 4 with value: 0.0.\u001b[0m\n"
     ]
    },
    {
     "name": "stdout",
     "output_type": "stream",
     "text": [
      "1/1 [==============================] - 0s 47ms/step\n"
     ]
    },
    {
     "name": "stderr",
     "output_type": "stream",
     "text": [
      "\u001b[32m[I 2024-09-06 08:50:18,993]\u001b[0m Trial 27 finished with value: 0.1212121212121211 and parameters: {'n_layers': 2, 'n_units_l0': 127, 'activation_l0': 'tanh', 'n_units_l1': 41, 'activation_l1': 'tanh', 'optimizer': 'sgd', 'batch_size': 36, 'epochs': 50}. Best is trial 4 with value: 0.0.\u001b[0m\n"
     ]
    },
    {
     "name": "stdout",
     "output_type": "stream",
     "text": [
      "1/1 [==============================] - 0s 61ms/step\n"
     ]
    },
    {
     "name": "stderr",
     "output_type": "stream",
     "text": [
      "\u001b[32m[I 2024-09-06 08:50:19,717]\u001b[0m Trial 28 finished with value: 0.0 and parameters: {'n_layers': 2, 'n_units_l0': 54, 'activation_l0': 'relu', 'n_units_l1': 85, 'activation_l1': 'relu', 'optimizer': 'adam', 'batch_size': 63, 'epochs': 37}. Best is trial 4 with value: 0.0.\u001b[0m\n"
     ]
    },
    {
     "name": "stdout",
     "output_type": "stream",
     "text": [
      "1/1 [==============================] - 0s 44ms/step\n"
     ]
    },
    {
     "name": "stderr",
     "output_type": "stream",
     "text": [
      "\u001b[32m[I 2024-09-06 08:50:20,742]\u001b[0m Trial 29 finished with value: 0.12535612535612528 and parameters: {'n_layers': 1, 'n_units_l0': 28, 'activation_l0': 'relu', 'optimizer': 'rmsprop', 'batch_size': 24, 'epochs': 35}. Best is trial 4 with value: 0.0.\u001b[0m\n"
     ]
    },
    {
     "name": "stdout",
     "output_type": "stream",
     "text": [
      "1/1 [==============================] - 0s 50ms/step\n"
     ]
    },
    {
     "name": "stderr",
     "output_type": "stream",
     "text": [
      "\u001b[32m[I 2024-09-06 08:50:21,892]\u001b[0m Trial 30 finished with value: 0.1212121212121211 and parameters: {'n_layers': 3, 'n_units_l0': 107, 'activation_l0': 'tanh', 'n_units_l1': 47, 'activation_l1': 'tanh', 'n_units_l2': 59, 'activation_l2': 'tanh', 'optimizer': 'adam', 'batch_size': 57, 'epochs': 47}. Best is trial 4 with value: 0.0.\u001b[0m\n"
     ]
    },
    {
     "name": "stdout",
     "output_type": "stream",
     "text": [
      "1/1 [==============================] - 0s 52ms/step\n"
     ]
    },
    {
     "name": "stderr",
     "output_type": "stream",
     "text": [
      "\u001b[32m[I 2024-09-06 08:50:22,885]\u001b[0m Trial 31 finished with value: 0.0 and parameters: {'n_layers': 3, 'n_units_l0': 107, 'activation_l0': 'tanh', 'n_units_l1': 35, 'activation_l1': 'tanh', 'n_units_l2': 90, 'activation_l2': 'relu', 'optimizer': 'adam', 'batch_size': 53, 'epochs': 32}. Best is trial 4 with value: 0.0.\u001b[0m\n"
     ]
    },
    {
     "name": "stdout",
     "output_type": "stream",
     "text": [
      "1/1 [==============================] - 0s 52ms/step\n"
     ]
    },
    {
     "name": "stderr",
     "output_type": "stream",
     "text": [
      "\u001b[32m[I 2024-09-06 08:50:24,005]\u001b[0m Trial 32 finished with value: 0.0 and parameters: {'n_layers': 3, 'n_units_l0': 113, 'activation_l0': 'tanh', 'n_units_l1': 4, 'activation_l1': 'tanh', 'n_units_l2': 98, 'activation_l2': 'relu', 'optimizer': 'adam', 'batch_size': 57, 'epochs': 42}. Best is trial 4 with value: 0.0.\u001b[0m\n"
     ]
    },
    {
     "name": "stdout",
     "output_type": "stream",
     "text": [
      "1/1 [==============================] - 0s 49ms/step\n"
     ]
    },
    {
     "name": "stderr",
     "output_type": "stream",
     "text": [
      "\u001b[32m[I 2024-09-06 08:50:24,810]\u001b[0m Trial 33 finished with value: 0.0 and parameters: {'n_layers': 3, 'n_units_l0': 123, 'activation_l0': 'tanh', 'n_units_l1': 19, 'activation_l1': 'tanh', 'n_units_l2': 95, 'activation_l2': 'relu', 'optimizer': 'adam', 'batch_size': 46, 'epochs': 29}. Best is trial 4 with value: 0.0.\u001b[0m\n"
     ]
    },
    {
     "name": "stdout",
     "output_type": "stream",
     "text": [
      "1/1 [==============================] - 0s 52ms/step\n"
     ]
    },
    {
     "name": "stderr",
     "output_type": "stream",
     "text": [
      "\u001b[32m[I 2024-09-06 08:50:25,648]\u001b[0m Trial 34 finished with value: 0.0 and parameters: {'n_layers': 3, 'n_units_l0': 99, 'activation_l0': 'tanh', 'n_units_l1': 33, 'activation_l1': 'tanh', 'n_units_l2': 79, 'activation_l2': 'relu', 'optimizer': 'adam', 'batch_size': 61, 'epochs': 36}. Best is trial 4 with value: 0.0.\u001b[0m\n"
     ]
    },
    {
     "name": "stdout",
     "output_type": "stream",
     "text": [
      "1/1 [==============================] - 0s 53ms/step\n"
     ]
    },
    {
     "name": "stderr",
     "output_type": "stream",
     "text": [
      "\u001b[32m[I 2024-09-06 08:50:26,586]\u001b[0m Trial 35 finished with value: 0.0 and parameters: {'n_layers': 3, 'n_units_l0': 74, 'activation_l0': 'tanh', 'n_units_l1': 57, 'activation_l1': 'tanh', 'n_units_l2': 112, 'activation_l2': 'relu', 'optimizer': 'adam', 'batch_size': 54, 'epochs': 43}. Best is trial 4 with value: 0.0.\u001b[0m\n"
     ]
    },
    {
     "name": "stdout",
     "output_type": "stream",
     "text": [
      "1/1 [==============================] - 0s 45ms/step\n"
     ]
    },
    {
     "name": "stderr",
     "output_type": "stream",
     "text": [
      "\u001b[32m[I 2024-09-06 08:50:27,384]\u001b[0m Trial 36 finished with value: 0.33986928104575176 and parameters: {'n_layers': 2, 'n_units_l0': 118, 'activation_l0': 'tanh', 'n_units_l1': 26, 'activation_l1': 'tanh', 'optimizer': 'adam', 'batch_size': 59, 'epochs': 40}. Best is trial 4 with value: 0.0.\u001b[0m\n"
     ]
    },
    {
     "name": "stdout",
     "output_type": "stream",
     "text": [
      "1/1 [==============================] - 0s 51ms/step\n"
     ]
    },
    {
     "name": "stderr",
     "output_type": "stream",
     "text": [
      "\u001b[32m[I 2024-09-06 08:50:28,100]\u001b[0m Trial 37 finished with value: 0.23703703703703716 and parameters: {'n_layers': 3, 'n_units_l0': 89, 'activation_l0': 'tanh', 'n_units_l1': 13, 'activation_l1': 'tanh', 'n_units_l2': 105, 'activation_l2': 'tanh', 'optimizer': 'sgd', 'batch_size': 49, 'epochs': 26}. Best is trial 4 with value: 0.0.\u001b[0m\n"
     ]
    },
    {
     "name": "stdout",
     "output_type": "stream",
     "text": [
      "1/1 [==============================] - 0s 48ms/step\n"
     ]
    },
    {
     "name": "stderr",
     "output_type": "stream",
     "text": [
      "\u001b[32m[I 2024-09-06 08:50:28,708]\u001b[0m Trial 38 finished with value: 0.0 and parameters: {'n_layers': 1, 'n_units_l0': 62, 'activation_l0': 'tanh', 'optimizer': 'adam', 'batch_size': 38, 'epochs': 17}. Best is trial 4 with value: 0.0.\u001b[0m\n"
     ]
    },
    {
     "name": "stdout",
     "output_type": "stream",
     "text": [
      "1/1 [==============================] - 0s 45ms/step\n"
     ]
    },
    {
     "name": "stderr",
     "output_type": "stream",
     "text": [
      "\u001b[32m[I 2024-09-06 08:50:29,518]\u001b[0m Trial 39 finished with value: 0.28935185185185175 and parameters: {'n_layers': 2, 'n_units_l0': 103, 'activation_l0': 'relu', 'n_units_l1': 39, 'activation_l1': 'relu', 'optimizer': 'sgd', 'batch_size': 29, 'epochs': 32}. Best is trial 4 with value: 0.0.\u001b[0m\n"
     ]
    },
    {
     "name": "stdout",
     "output_type": "stream",
     "text": [
      "1/1 [==============================] - 0s 50ms/step\n"
     ]
    },
    {
     "name": "stderr",
     "output_type": "stream",
     "text": [
      "\u001b[32m[I 2024-09-06 08:50:31,233]\u001b[0m Trial 40 finished with value: 0.1212121212121211 and parameters: {'n_layers': 3, 'n_units_l0': 77, 'activation_l0': 'tanh', 'n_units_l1': 15, 'activation_l1': 'tanh', 'n_units_l2': 51, 'activation_l2': 'tanh', 'optimizer': 'rmsprop', 'batch_size': 23, 'epochs': 48}. Best is trial 4 with value: 0.0.\u001b[0m\n"
     ]
    },
    {
     "name": "stdout",
     "output_type": "stream",
     "text": [
      "1/1 [==============================] - 0s 45ms/step\n"
     ]
    },
    {
     "name": "stderr",
     "output_type": "stream",
     "text": [
      "\u001b[32m[I 2024-09-06 08:50:32,089]\u001b[0m Trial 41 finished with value: 0.33986928104575176 and parameters: {'n_layers': 2, 'n_units_l0': 52, 'activation_l0': 'tanh', 'n_units_l1': 91, 'activation_l1': 'relu', 'optimizer': 'sgd', 'batch_size': 36, 'epochs': 44}. Best is trial 4 with value: 0.0.\u001b[0m\n"
     ]
    },
    {
     "name": "stdout",
     "output_type": "stream",
     "text": [
      "1/1 [==============================] - 0s 46ms/step\n"
     ]
    },
    {
     "name": "stderr",
     "output_type": "stream",
     "text": [
      "\u001b[32m[I 2024-09-06 08:50:32,827]\u001b[0m Trial 42 finished with value: 0.0 and parameters: {'n_layers': 2, 'n_units_l0': 61, 'activation_l0': 'tanh', 'n_units_l1': 74, 'activation_l1': 'relu', 'optimizer': 'sgd', 'batch_size': 43, 'epochs': 39}. Best is trial 4 with value: 0.0.\u001b[0m\n"
     ]
    },
    {
     "name": "stdout",
     "output_type": "stream",
     "text": [
      "1/1 [==============================] - 0s 45ms/step\n"
     ]
    },
    {
     "name": "stderr",
     "output_type": "stream",
     "text": [
      "\u001b[32m[I 2024-09-06 08:50:33,562]\u001b[0m Trial 43 finished with value: 0.0636363636363636 and parameters: {'n_layers': 2, 'n_units_l0': 111, 'activation_l0': 'tanh', 'n_units_l1': 102, 'activation_l1': 'relu', 'optimizer': 'sgd', 'batch_size': 40, 'epochs': 46}. Best is trial 4 with value: 0.0.\u001b[0m\n"
     ]
    },
    {
     "name": "stdout",
     "output_type": "stream",
     "text": [
      "1/1 [==============================] - 0s 45ms/step\n"
     ]
    },
    {
     "name": "stderr",
     "output_type": "stream",
     "text": [
      "\u001b[32m[I 2024-09-06 08:50:34,508]\u001b[0m Trial 44 finished with value: 0.0 and parameters: {'n_layers': 2, 'n_units_l0': 29, 'activation_l0': 'tanh', 'n_units_l1': 62, 'activation_l1': 'relu', 'optimizer': 'sgd', 'batch_size': 32, 'epochs': 42}. Best is trial 4 with value: 0.0.\u001b[0m\n"
     ]
    },
    {
     "name": "stdout",
     "output_type": "stream",
     "text": [
      "1/1 [==============================] - 0s 45ms/step\n"
     ]
    },
    {
     "name": "stderr",
     "output_type": "stream",
     "text": [
      "\u001b[32m[I 2024-09-06 08:50:35,221]\u001b[0m Trial 45 finished with value: 0.28935185185185175 and parameters: {'n_layers': 2, 'n_units_l0': 121, 'activation_l0': 'relu', 'n_units_l1': 47, 'activation_l1': 'relu', 'optimizer': 'sgd', 'batch_size': 46, 'epochs': 24}. Best is trial 4 with value: 0.0.\u001b[0m\n"
     ]
    },
    {
     "name": "stdout",
     "output_type": "stream",
     "text": [
      "1/1 [==============================] - 0s 95ms/step\n"
     ]
    },
    {
     "name": "stderr",
     "output_type": "stream",
     "text": [
      "\u001b[32m[I 2024-09-06 08:50:36,826]\u001b[0m Trial 46 finished with value: 0.06481481481481488 and parameters: {'n_layers': 2, 'n_units_l0': 47, 'activation_l0': 'tanh', 'n_units_l1': 6, 'activation_l1': 'relu', 'optimizer': 'sgd', 'batch_size': 16, 'epochs': 50}. Best is trial 4 with value: 0.0.\u001b[0m\n"
     ]
    },
    {
     "name": "stdout",
     "output_type": "stream",
     "text": [
      "1/1 [==============================] - 0s 46ms/step\n"
     ]
    },
    {
     "name": "stderr",
     "output_type": "stream",
     "text": [
      "\u001b[32m[I 2024-09-06 08:50:38,034]\u001b[0m Trial 47 finished with value: 0.0 and parameters: {'n_layers': 2, 'n_units_l0': 96, 'activation_l0': 'relu', 'n_units_l1': 70, 'activation_l1': 'relu', 'optimizer': 'rmsprop', 'batch_size': 63, 'epochs': 44}. Best is trial 4 with value: 0.0.\u001b[0m\n"
     ]
    },
    {
     "name": "stdout",
     "output_type": "stream",
     "text": [
      "1/1 [==============================] - 0s 49ms/step\n"
     ]
    },
    {
     "name": "stderr",
     "output_type": "stream",
     "text": [
      "\u001b[32m[I 2024-09-06 08:50:38,927]\u001b[0m Trial 48 finished with value: 0.0 and parameters: {'n_layers': 3, 'n_units_l0': 83, 'activation_l0': 'tanh', 'n_units_l1': 31, 'activation_l1': 'tanh', 'n_units_l2': 81, 'activation_l2': 'relu', 'optimizer': 'adam', 'batch_size': 56, 'epochs': 38}. Best is trial 4 with value: 0.0.\u001b[0m\n"
     ]
    },
    {
     "name": "stdout",
     "output_type": "stream",
     "text": [
      "1/1 [==============================] - 0s 46ms/step\n"
     ]
    },
    {
     "name": "stderr",
     "output_type": "stream",
     "text": [
      "h:\\Anaconda\\envs\\IA\\lib\\site-packages\\sklearn\\metrics\\_classification.py:1344: UndefinedMetricWarning: Precision is ill-defined and being set to 0.0 in labels with no predicted samples. Use `zero_division` parameter to control this behavior.\n",
      "  _warn_prf(average, modifier, msg_start, len(result))\n",
      "\u001b[32m[I 2024-09-06 08:50:39,460]\u001b[0m Trial 49 finished with value: 0.8166666666666667 and parameters: {'n_layers': 2, 'n_units_l0': 67, 'activation_l0': 'relu', 'n_units_l1': 116, 'activation_l1': 'relu', 'optimizer': 'sgd', 'batch_size': 50, 'epochs': 11}. Best is trial 4 with value: 0.0.\u001b[0m\n"
     ]
    },
    {
     "name": "stdout",
     "output_type": "stream",
     "text": [
      "Best parameters: {'n_layers': 2, 'n_units_l0': 112, 'activation_l0': 'tanh', 'n_units_l1': 12, 'activation_l1': 'tanh', 'optimizer': 'adam', 'batch_size': 61, 'epochs': 42}\n",
      "Best trial precision: 1.0\n",
      "Best trial recall: 1.0\n"
     ]
    },
    {
     "data": {
      "image/png": "[encoded data removed]",
      "text/plain": [
       "<Figure size 800x600 with 1 Axes>"
      ]
     },
     "metadata": {},
     "output_type": "display_data"
    }
   ],
   "source": [
    "import optuna\n",
    "import tensorflow as tf\n",
    "from tensorflow.keras.models import Sequential\n",
    "from tensorflow.keras.layers import Dense\n",
    "from tensorflow.keras.utils import to_categorical\n",
    "from sklearn.datasets import load_iris\n",
    "from sklearn.model_selection import train_test_split\n",
    "from sklearn.metrics import precision_score, recall_score\n",
    "\n",
    "# Cargar el conjunto de datos Iris\n",
    "iris = load_iris()\n",
    "X, y = iris.data, iris.target\n",
    "\n",
    "# Convertir las etiquetas a categóricas (one-hot encoding)\n",
    "y = to_categorical(y)\n",
    "\n",
    "# Dividir en conjunto de entrenamiento y prueba\n",
    "X_train, X_test, y_train, y_test = train_test_split(X, y, test_size=0.2, random_state=42)\n",
    "\n",
    "\n",
    "\n"
   ]
  },
  {
   "cell_type": "code",
   "execution_count": null,
   "metadata": {},
   "outputs": [],
   "source": [
    "\n",
    "# Crear el modelo en función de los hiperparámetros propuestos por Optuna\n",
    "def create_model(trial):\n",
    "    model = Sequential()\n",
    "    input_dim = X_train.shape[1]\n",
    "\n",
    "    # Sugerir el número de capas ocultas y las unidades en cada capa\n",
    "    n_layers = trial.suggest_int('n_layers', 1, 3)\n",
    "    for i in range(n_layers):\n",
    "        num_units = trial.suggest_int(f'n_units_l{i}', 4, 128)\n",
    "        model.add(Dense(num_units, activation=trial.suggest_categorical(f'activation_l{i}', ['relu', 'tanh']), input_dim=input_dim if i == 0 else None))\n",
    "\n",
    "    model.add(Dense(3, activation='softmax'))  # Salida para 3 clases\n",
    "\n",
    "    # Compilar el modelo\n",
    "    optimizer = trial.suggest_categorical('optimizer', ['adam', 'rmsprop', 'sgd'])\n",
    "    model.compile(optimizer=optimizer, loss='categorical_crossentropy', metrics=['accuracy'])\n",
    "    \n",
    "    return model\n"
   ]
  },
  {
   "cell_type": "code",
   "execution_count": null,
   "metadata": {},
   "outputs": [],
   "source": [
    "    \n",
    "# Función objetivo que entrena y evalúa el modelo usando Optuna\n",
    "def objective(trial):\n",
    "    model = create_model(trial)\n",
    "    \n",
    "    # Hiperparámetros adicionales\n",
    "    batch_size = trial.suggest_int('batch_size', 16, 64)\n",
    "    epochs = trial.suggest_int('epochs', 10, 50)\n",
    "\n",
    "    # Entrenar el modelo\n",
    "    model.fit(X_train, y_train, batch_size=batch_size, epochs=epochs, verbose=0)\n",
    "\n",
    "    # Predecir y calcular precisión y recall\n",
    "    y_pred = model.predict(X_test)\n",
    "    y_pred_classes = tf.argmax(y_pred, axis=1).numpy()\n",
    "    y_test_classes = tf.argmax(y_test, axis=1).numpy()\n",
    "\n",
    "    precision = precision_score(y_test_classes, y_pred_classes, average='macro')\n",
    "    recall = recall_score(y_test_classes, y_pred_classes, average='macro')\n",
    "\n",
    "    # Minimizar (1 - precision) y (1 - recall) para maximizar ambas\n",
    "    trial.set_user_attr(\"precision\", precision)\n",
    "    trial.set_user_attr(\"recall\", recall)\n",
    "\n",
    "    return (1 - precision) + (1 - recall)\n",
    "\n",
    "# Optimización con Optuna (usando el método de dos objetivos)\n",
    "study = optuna.create_study(direction='minimize')\n",
    "study.optimize(objective, n_trials=50)"
   ]
  },
  {
   "cell_type": "markdown",
   "metadata": {},
   "source": [
    "    Dataset Iris:\n",
    "        Cargamos el dataset Iris, que es más pequeño y contiene 150 ejemplos con 4 características.\n",
    "        Utilizamos one-hot encoding para las etiquetas de las 3 clases (setosa, versicolor, virginica).\n",
    "\n",
    "    Red Neuronal:\n",
    "        El modelo tiene un número de capas ocultas y neuronas configurables (optimizados por Optuna).\n",
    "        La última capa tiene 3 neuronas para clasificar las 3 clases de Iris con activación softmax.\n",
    "\n",
    "    Función Objetivo Multiobjetivo:\n",
    "        Se calculan precisión y recall y se optimizan juntos.\n",
    "        La suma de (1 - precisión) + (1 - recall) se minimiza para maximizar ambos.\n",
    "\n",
    "    Visualización:\n",
    "        Usamos optuna.visualization.plot_param_importances() para visualizar la importancia de los hiperparámetros.\n",
    "        Creamos una función plot_pareto_front() para visualizar el frente de Pareto entre la precisión y el recall.\n",
    "\n",
    "Explicación de los Resultados:\n",
    "\n",
    "    Importancia de los Hiperparámetros: Optuna nos permite visualizar qué hiperparámetros tienen el mayor impacto en el rendimiento del modelo.\n",
    "    Frente de Pareto: Muestra el equilibrio entre precisión y recall, donde se pueden ver los puntos en el gráfico que representan un trade-off entre estos dos objetivos."
   ]
  },
  {
   "cell_type": "code",
   "execution_count": null,
   "metadata": {},
   "outputs": [],
   "source": []
  },
  {
   "cell_type": "code",
   "execution_count": 2,
   "metadata": {},
   "outputs": [
    {
     "name": "stdout",
     "output_type": "stream",
     "text": [
      "Best parameters: {'n_layers': 2, 'n_units_l0': 112, 'activation_l0': 'tanh', 'n_units_l1': 12, 'activation_l1': 'tanh', 'optimizer': 'adam', 'batch_size': 61, 'epochs': 42}\n",
      "Best trial precision: 1.0\n",
      "Best trial recall: 1.0\n"
     ]
    }
   ],
   "source": [
    "# Imprimir los mejores hiperparámetros\n",
    "print(\"Best parameters:\", study.best_params)\n",
    "best_trial = study.best_trial\n",
    "print(f\"Best trial precision: {best_trial.user_attrs['precision']}\")\n",
    "print(f\"Best trial recall: {best_trial.user_attrs['recall']}\")\n",
    "\n"
   ]
  },
  {
   "cell_type": "code",
   "execution_count": 3,
   "metadata": {},
   "outputs": [
    {
     "data": {
      "image/png": "[encoded data removed]",
      "text/plain": [
       "<Figure size 800x600 with 1 Axes>"
      ]
     },
     "metadata": {},
     "output_type": "display_data"
    }
   ],
   "source": [
    "# Mostrar la importancia de los hiperparámetros\n",
    "optuna.visualization.plot_param_importances(study)\n",
    "\n",
    "# Mostrar el frente de Pareto entre precision y recall\n",
    "def plot_pareto_front(study):\n",
    "    trials = study.trials\n",
    "    precisions = [trial.user_attrs['precision'] for trial in trials]\n",
    "    recalls = [trial.user_attrs['recall'] for trial in trials]\n",
    "\n",
    "    import matplotlib.pyplot as plt\n",
    "    plt.figure(figsize=(8, 6))\n",
    "    plt.scatter(precisions, recalls, c='blue')\n",
    "    plt.xlabel('Precision')\n",
    "    plt.ylabel('Recall')\n",
    "    plt.title('Pareto Front for Precision vs Recall')\n",
    "    plt.show()\n",
    "\n",
    "plot_pareto_front(study)"
   ]
  }
 ],
 "metadata": {
  "kernelspec": {
   "display_name": "IA",
   "language": "python",
   "name": "python3"
  },
  "language_info": {
   "codemirror_mode": {
    "name": "ipython",
    "version": 3
   },
   "file_extension": ".py",
   "mimetype": "text/x-python",
   "name": "python",
   "nbconvert_exporter": "python",
   "pygments_lexer": "ipython3",
   "version": "3.10.11"
  }
 },
 "nbformat": 4,
 "nbformat_minor": 2
}
